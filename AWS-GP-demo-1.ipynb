{
 "cells": [
  {
   "cell_type": "markdown",
   "metadata": {},
   "source": [
    "# Greenplum Database  Concepts Explained - Part 1\n",
    "## 1. System Setup\n",
    "### 1.1 Initialize database connection and setup global variable values"
   ]
  },
  {
   "cell_type": "code",
   "execution_count": 42,
   "metadata": {},
   "outputs": [],
   "source": [
    "import os, re\n",
    "from IPython.display import display_html\n",
    "\n",
    "import pygments.lexers\n",
    "from pygments import highlight\n",
    "from pygments.formatters import HtmlFormatter\n",
    "\n",
    "CONNECTION_STRING = os.getenv('AWSGPDBCONN')\n",
    "\n",
    "cs = re.match('^postgresql:\\/\\/(\\S+):(\\S+)@(\\S+):(\\S+)\\/(\\S+)$', CONNECTION_STRING)\n",
    "\n",
    "DB_USER   = cs.group(1)\n",
    "DB_PWD    = cs.group(2)\n",
    "DB_SERVER = cs.group(3)\n",
    "DB_PORT   = cs.group(4)\n",
    "DB_NAME   = cs.group(5)\n",
    "\n",
    "%reload_ext sql"
   ]
  },
  {
   "cell_type": "code",
   "execution_count": 43,
   "metadata": {},
   "outputs": [
    {
     "name": "stdout",
     "output_type": "stream",
     "text": [
      "1 rows affected.\n"
     ]
    },
    {
     "data": {
      "text/html": [
       "<table>\n",
       "    <tr>\n",
       "        <th>version</th>\n",
       "    </tr>\n",
       "    <tr>\n",
       "        <td>PostgreSQL 9.4.24 (Greenplum Database 6.10.1 build commit:efba04ce26ebb29b535a255a5e95d1f5ebfde94e) on x86_64-unknown-linux-gnu, compiled by gcc (Ubuntu 7.5.0-3ubuntu1~18.04) 7.5.0, 64-bit compiled on Aug 13 2020 02:55:59</td>\n",
       "    </tr>\n",
       "</table>"
      ],
      "text/plain": [
       "[('PostgreSQL 9.4.24 (Greenplum Database 6.10.1 build commit:efba04ce26ebb29b535a255a5e95d1f5ebfde94e) on x86_64-unknown-linux-gnu, compiled by gcc (Ubuntu 7.5.0-3ubuntu1~18.04) 7.5.0, 64-bit compiled on Aug 13 2020 02:55:59',)]"
      ]
     },
     "execution_count": 43,
     "metadata": {},
     "output_type": "execute_result"
    }
   ],
   "source": [
    "%sql $CONNECTION_STRING\n",
    "%sql $DB_USER@$DB_NAME {\"SELECT version();\"}"
   ]
  },
  {
   "cell_type": "code",
   "execution_count": 44,
   "metadata": {},
   "outputs": [
    {
     "name": "stdout",
     "output_type": "stream",
     "text": [
      "1 rows affected.\n",
      "Done.\n",
      "1 rows affected.\n"
     ]
    },
    {
     "data": {
      "text/html": [
       "<table>\n",
       "    <tr>\n",
       "        <th>gp_autostats_mode</th>\n",
       "    </tr>\n",
       "    <tr>\n",
       "        <td>on_no_stats</td>\n",
       "    </tr>\n",
       "</table>"
      ],
      "text/plain": [
       "[('on_no_stats',)]"
      ]
     },
     "execution_count": 44,
     "metadata": {},
     "output_type": "execute_result"
    }
   ],
   "source": [
    "query = \"SHOW gp_autostats_mode; \\\n",
    "ALTER DATABASE {} SET gp_autostats_mode TO 'NONE'; \\\n",
    "SHOW gp_autostats_mode;\".format(DB_NAME)\n",
    "\n",
    "%sql $DB_USER@$DB_NAME {''.join(query)}"
   ]
  },
  {
   "cell_type": "code",
   "execution_count": 45,
   "metadata": {},
   "outputs": [
    {
     "name": "stdout",
     "output_type": "stream",
     "text": [
      "1 rows affected.\n"
     ]
    },
    {
     "data": {
      "text/html": [
       "<table>\n",
       "    <tr>\n",
       "        <th>version</th>\n",
       "    </tr>\n",
       "    <tr>\n",
       "        <td>PostgreSQL 9.4.24 (Greenplum Database 6.10.1 build commit:efba04ce26ebb29b535a255a5e95d1f5ebfde94e) on x86_64-unknown-linux-gnu, compiled by gcc (Ubuntu 7.5.0-3ubuntu1~18.04) 7.5.0, 64-bit compiled on Aug 13 2020 02:55:59</td>\n",
       "    </tr>\n",
       "</table>"
      ],
      "text/plain": [
       "[('PostgreSQL 9.4.24 (Greenplum Database 6.10.1 build commit:efba04ce26ebb29b535a255a5e95d1f5ebfde94e) on x86_64-unknown-linux-gnu, compiled by gcc (Ubuntu 7.5.0-3ubuntu1~18.04) 7.5.0, 64-bit compiled on Aug 13 2020 02:55:59',)]"
      ]
     },
     "execution_count": 45,
     "metadata": {},
     "output_type": "execute_result"
    }
   ],
   "source": [
    "%%sql $DB_USER@$DB_NAME\n",
    "SELECT version();"
   ]
  },
  {
   "cell_type": "markdown",
   "metadata": {},
   "source": [
    "## 2. The Amazon Customer Reviews Dataset\n",
    "\n",
    "Over 130+ million customer reviews are available to researchers as part of this release. The data is available in TSV files in the `amazon-reviews-pds` S3 bucket in AWS US East Region. Each line in the data files corresponds to an individual review (tab delimited, with no quote and escape characters). Samples of the data are available in English and French; more details on the information in each column can be found [here](https://s3.amazonaws.com/amazon-reviews-pds/tsv/index.txt).\n",
    "\n",
    "If you use the AWS Command Line Interface, you can list data in the bucket with the `aws s3 ls` command:\n",
    "\n",
    "`aws s3 ls s3://amazon-reviews-pds/tsv/`\n",
    "\n",
    "To download data using the AWS Command Line Interface, you can use the `aws s3 cp` command. For instance, the following command will copy the file named `amazon_reviews_us_Camera_v1_00.tsv.gz` to your local directory:\n",
    "\n",
    "`aws s3 cp s3://amazon-reviews-pds/tsv/<S3 File> <Local File>`"
   ]
  },
  {
   "cell_type": "markdown",
   "metadata": {},
   "source": [
    "### 2.1 Copy source files from AWS S3\n",
    "For our demo, we choose to download the available files into the `/home/gpadmin/data/` folder, using the `aws s3 cp <S3 File> <Local File>` command described before, as follows:"
   ]
  },
  {
   "cell_type": "code",
   "execution_count": 46,
   "metadata": {},
   "outputs": [
    {
     "data": {
      "text/html": [
       "<!DOCTYPE html PUBLIC \"-//W3C//DTD HTML 4.01//EN\"\n",
       "   \"http://www.w3.org/TR/html4/strict.dtd\">\n",
       "<!--\n",
       "generated by Pygments <https://pygments.org/>\n",
       "Copyright 2006-2020 by the Pygments team.\n",
       "Licensed under the BSD license, see LICENSE for details.\n",
       "-->\n",
       "<html>\n",
       "<head>\n",
       "  <title></title>\n",
       "  <meta http-equiv=\"content-type\" content=\"text/html; charset=ANSI_X3.4-1968\">\n",
       "  <style type=\"text/css\">\n",
       "/*\n",
       "generated by Pygments <https://pygments.org/>\n",
       "Copyright 2006-2020 by the Pygments team.\n",
       "Licensed under the BSD license, see LICENSE for details.\n",
       "*/\n",
       "pre { line-height: 125%; margin: 0; }\n",
       "td.linenos pre { color: #000000; background-color: #f0f0f0; padding: 0 5px 0 5px; }\n",
       "span.linenos { color: #000000; background-color: #f0f0f0; padding: 0 5px 0 5px; }\n",
       "td.linenos pre.special { color: #000000; background-color: #ffffc0; padding: 0 5px 0 5px; }\n",
       "span.linenos.special { color: #000000; background-color: #ffffc0; padding: 0 5px 0 5px; }\n",
       "body .hll { background-color: #ffffcc }\n",
       "body { background: #f0f0f0; }\n",
       "body .c { color: #60a0b0; font-style: italic } /* Comment */\n",
       "body .err { border: 1px solid #FF0000 } /* Error */\n",
       "body .k { color: #007020; font-weight: bold } /* Keyword */\n",
       "body .o { color: #666666 } /* Operator */\n",
       "body .ch { color: #60a0b0; font-style: italic } /* Comment.Hashbang */\n",
       "body .cm { color: #60a0b0; font-style: italic } /* Comment.Multiline */\n",
       "body .cp { color: #007020 } /* Comment.Preproc */\n",
       "body .cpf { color: #60a0b0; font-style: italic } /* Comment.PreprocFile */\n",
       "body .c1 { color: #60a0b0; font-style: italic } /* Comment.Single */\n",
       "body .cs { color: #60a0b0; background-color: #fff0f0 } /* Comment.Special */\n",
       "body .gd { color: #A00000 } /* Generic.Deleted */\n",
       "body .ge { font-style: italic } /* Generic.Emph */\n",
       "body .gr { color: #FF0000 } /* Generic.Error */\n",
       "body .gh { color: #000080; font-weight: bold } /* Generic.Heading */\n",
       "body .gi { color: #00A000 } /* Generic.Inserted */\n",
       "body .go { color: #888888 } /* Generic.Output */\n",
       "body .gp { color: #c65d09; font-weight: bold } /* Generic.Prompt */\n",
       "body .gs { font-weight: bold } /* Generic.Strong */\n",
       "body .gu { color: #800080; font-weight: bold } /* Generic.Subheading */\n",
       "body .gt { color: #0044DD } /* Generic.Traceback */\n",
       "body .kc { color: #007020; font-weight: bold } /* Keyword.Constant */\n",
       "body .kd { color: #007020; font-weight: bold } /* Keyword.Declaration */\n",
       "body .kn { color: #007020; font-weight: bold } /* Keyword.Namespace */\n",
       "body .kp { color: #007020 } /* Keyword.Pseudo */\n",
       "body .kr { color: #007020; font-weight: bold } /* Keyword.Reserved */\n",
       "body .kt { color: #902000 } /* Keyword.Type */\n",
       "body .m { color: #40a070 } /* Literal.Number */\n",
       "body .s { color: #4070a0 } /* Literal.String */\n",
       "body .na { color: #4070a0 } /* Name.Attribute */\n",
       "body .nb { color: #007020 } /* Name.Builtin */\n",
       "body .nc { color: #0e84b5; font-weight: bold } /* Name.Class */\n",
       "body .no { color: #60add5 } /* Name.Constant */\n",
       "body .nd { color: #555555; font-weight: bold } /* Name.Decorator */\n",
       "body .ni { color: #d55537; font-weight: bold } /* Name.Entity */\n",
       "body .ne { color: #007020 } /* Name.Exception */\n",
       "body .nf { color: #06287e } /* Name.Function */\n",
       "body .nl { color: #002070; font-weight: bold } /* Name.Label */\n",
       "body .nn { color: #0e84b5; font-weight: bold } /* Name.Namespace */\n",
       "body .nt { color: #062873; font-weight: bold } /* Name.Tag */\n",
       "body .nv { color: #bb60d5 } /* Name.Variable */\n",
       "body .ow { color: #007020; font-weight: bold } /* Operator.Word */\n",
       "body .w { color: #bbbbbb } /* Text.Whitespace */\n",
       "body .mb { color: #40a070 } /* Literal.Number.Bin */\n",
       "body .mf { color: #40a070 } /* Literal.Number.Float */\n",
       "body .mh { color: #40a070 } /* Literal.Number.Hex */\n",
       "body .mi { color: #40a070 } /* Literal.Number.Integer */\n",
       "body .mo { color: #40a070 } /* Literal.Number.Oct */\n",
       "body .sa { color: #4070a0 } /* Literal.String.Affix */\n",
       "body .sb { color: #4070a0 } /* Literal.String.Backtick */\n",
       "body .sc { color: #4070a0 } /* Literal.String.Char */\n",
       "body .dl { color: #4070a0 } /* Literal.String.Delimiter */\n",
       "body .sd { color: #4070a0; font-style: italic } /* Literal.String.Doc */\n",
       "body .s2 { color: #4070a0 } /* Literal.String.Double */\n",
       "body .se { color: #4070a0; font-weight: bold } /* Literal.String.Escape */\n",
       "body .sh { color: #4070a0 } /* Literal.String.Heredoc */\n",
       "body .si { color: #70a0d0; font-style: italic } /* Literal.String.Interpol */\n",
       "body .sx { color: #c65d09 } /* Literal.String.Other */\n",
       "body .sr { color: #235388 } /* Literal.String.Regex */\n",
       "body .s1 { color: #4070a0 } /* Literal.String.Single */\n",
       "body .ss { color: #517918 } /* Literal.String.Symbol */\n",
       "body .bp { color: #007020 } /* Name.Builtin.Pseudo */\n",
       "body .fm { color: #06287e } /* Name.Function.Magic */\n",
       "body .vc { color: #bb60d5 } /* Name.Variable.Class */\n",
       "body .vg { color: #bb60d5 } /* Name.Variable.Global */\n",
       "body .vi { color: #bb60d5 } /* Name.Variable.Instance */\n",
       "body .vm { color: #bb60d5 } /* Name.Variable.Magic */\n",
       "body .il { color: #40a070 } /* Literal.Number.Integer.Long */\n",
       "\n",
       "  </style>\n",
       "</head>\n",
       "<body>\n",
       "<h2></h2>\n",
       "\n",
       "<div class=\"highlight\"><pre><span></span><span class=\"ch\">#!/bin/bash</span>\n",
       "\n",
       "<span class=\"nb\">export</span> <span class=\"nv\">S3_DATA_DIR</span><span class=\"o\">=</span>/data1/tmp_s3_data\n",
       "\n",
       "<span class=\"k\">if</span> <span class=\"o\">[</span> -d <span class=\"nv\">$S3_DATA_DIR</span> <span class=\"o\">]</span><span class=\"p\">;</span> <span class=\"k\">then</span> rm -rf <span class=\"nv\">$S3_DATA_DIR</span><span class=\"p\">;</span> <span class=\"k\">fi</span>\n",
       "\n",
       "mkdir -p <span class=\"nv\">$S3_DATA_DIR</span>\n",
       "<span class=\"nb\">cd</span> <span class=\"nv\">$S3_DATA_DIR</span>\n",
       "\n",
       "ls -laF <span class=\"nv\">$S3_DATA_DIR</span>\n",
       "\n",
       "aws s3 cp s3://amazon-reviews-pds/tsv/amazon_reviews_us_Wireless_v1_00.tsv.gz amazon_reviews_us_Wireless_v1_00.tsv.gz\n",
       "aws s3 cp s3://amazon-reviews-pds/tsv/amazon_reviews_us_Watches_v1_00.tsv.gz amazon_reviews_us_Watches_v1_00.tsv.gz\n",
       "aws s3 cp s3://amazon-reviews-pds/tsv/amazon_reviews_us_Video_Games_v1_00.tsv.gz amazon_reviews_us_Video_Games_v1_00.tsv.gz\n",
       "aws s3 cp s3://amazon-reviews-pds/tsv/amazon_reviews_us_Video_DVD_v1_00.tsv.gz amazon_reviews_us_Video_DVD_v1_00.tsv.gz\n",
       "aws s3 cp s3://amazon-reviews-pds/tsv/amazon_reviews_us_Video_v1_00.tsv.gz amazon_reviews_us_Video_v1_00.tsv.gz\n",
       "aws s3 cp s3://amazon-reviews-pds/tsv/amazon_reviews_us_Toys_v1_00.tsv.gz amazon_reviews_us_Toys_v1_00.tsv.gz\n",
       "aws s3 cp s3://amazon-reviews-pds/tsv/amazon_reviews_us_Tools_v1_00.tsv.gz amazon_reviews_us_Tools_v1_00.tsv.gz\n",
       "aws s3 cp s3://amazon-reviews-pds/tsv/amazon_reviews_us_Sports_v1_00.tsv.gz amazon_reviews_us_Sports_v1_00.tsv.gz\n",
       "aws s3 cp s3://amazon-reviews-pds/tsv/amazon_reviews_us_Software_v1_00.tsv.gz amazon_reviews_us_Software_v1_00.tsv.gz\n",
       "aws s3 cp s3://amazon-reviews-pds/tsv/amazon_reviews_us_Shoes_v1_00.tsv.gz amazon_reviews_us_Shoes_v1_00.tsv.gz\n",
       "aws s3 cp s3://amazon-reviews-pds/tsv/amazon_reviews_us_Pet_Products_v1_00.tsv.gz amazon_reviews_us_Pet_Products_v1_00.tsv.gz\n",
       "aws s3 cp s3://amazon-reviews-pds/tsv/amazon_reviews_us_Personal_Care_Appliances_v1_00.tsv.gz amazon_reviews_us_Personal_Care_Appliances_v1_00.tsv.gz\n",
       "aws s3 cp s3://amazon-reviews-pds/tsv/amazon_reviews_us_PC_v1_00.tsv.gz amazon_reviews_us_PC_v1_00.tsv.gz\n",
       "aws s3 cp s3://amazon-reviews-pds/tsv/amazon_reviews_us_Outdoors_v1_00.tsv.gz amazon_reviews_us_Outdoors_v1_00.tsv.gz\n",
       "aws s3 cp s3://amazon-reviews-pds/tsv/amazon_reviews_us_Office_Products_v1_00.tsv.gz amazon_reviews_us_Office_Products_v1_00.tsv.gz\n",
       "aws s3 cp s3://amazon-reviews-pds/tsv/amazon_reviews_us_Musical_Instruments_v1_00.tsv.gz amazon_reviews_us_Musical_Instruments_v1_00.tsv.gz\n",
       "aws s3 cp s3://amazon-reviews-pds/tsv/amazon_reviews_us_Music_v1_00.tsv.gz amazon_reviews_us_Music_v1_00.tsv.gz\n",
       "aws s3 cp s3://amazon-reviews-pds/tsv/amazon_reviews_us_Mobile_Electronics_v1_00.tsv.gz amazon_reviews_us_Mobile_Electronics_v1_00.tsv.gz\n",
       "aws s3 cp s3://amazon-reviews-pds/tsv/amazon_reviews_us_Mobile_Apps_v1_00.tsv.gz amazon_reviews_us_Mobile_Apps_v1_00.tsv.gz\n",
       "aws s3 cp s3://amazon-reviews-pds/tsv/amazon_reviews_us_Major_Appliances_v1_00.tsv.gz amazon_reviews_us_Major_Appliances_v1_00.tsv.gz\n",
       "aws s3 cp s3://amazon-reviews-pds/tsv/amazon_reviews_us_Luggage_v1_00.tsv.gz amazon_reviews_us_Luggage_v1_00.tsv.gz\n",
       "aws s3 cp s3://amazon-reviews-pds/tsv/amazon_reviews_us_Lawn_and_Garden_v1_00.tsv.gz amazon_reviews_us_Lawn_and_Garden_v1_00.tsv.gz\n",
       "aws s3 cp s3://amazon-reviews-pds/tsv/amazon_reviews_us_Kitchen_v1_00.tsv.gz amazon_reviews_us_Kitchen_v1_00.tsv.gz\n",
       "aws s3 cp s3://amazon-reviews-pds/tsv/amazon_reviews_us_Jewelry_v1_00.tsv.gz amazon_reviews_us_Jewelry_v1_00.tsv.gz\n",
       "aws s3 cp s3://amazon-reviews-pds/tsv/amazon_reviews_us_Home_Improvement_v1_00.tsv.gz amazon_reviews_us_Home_Improvement_v1_00.tsv.gz\n",
       "aws s3 cp s3://amazon-reviews-pds/tsv/amazon_reviews_us_Home_Entertainment_v1_00.tsv.gz amazon_reviews_us_Home_Entertainment_v1_00.tsv.gz\n",
       "aws s3 cp s3://amazon-reviews-pds/tsv/amazon_reviews_us_Home_v1_00.tsv.gz amazon_reviews_us_Home_v1_00.tsv.gz\n",
       "aws s3 cp s3://amazon-reviews-pds/tsv/amazon_reviews_us_Health_Personal_Care_v1_00.tsv.gz amazon_reviews_us_Health_Personal_Care_v1_00.tsv.gz\n",
       "aws s3 cp s3://amazon-reviews-pds/tsv/amazon_reviews_us_Grocery_v1_00.tsv.gz amazon_reviews_us_Grocery_v1_00.tsv.gz\n",
       "aws s3 cp s3://amazon-reviews-pds/tsv/amazon_reviews_us_Gift_Card_v1_00.tsv.gz amazon_reviews_us_Gift_Card_v1_00.tsv.gz\n",
       "aws s3 cp s3://amazon-reviews-pds/tsv/amazon_reviews_us_Furniture_v1_00.tsv.gz amazon_reviews_us_Furniture_v1_00.tsv.gz\n",
       "aws s3 cp s3://amazon-reviews-pds/tsv/amazon_reviews_us_Electronics_v1_00.tsv.gz amazon_reviews_us_Electronics_v1_00.tsv.gz\n",
       "aws s3 cp s3://amazon-reviews-pds/tsv/amazon_reviews_us_Digital_Video_Games_v1_00.tsv.gz amazon_reviews_us_Digital_Video_Games_v1_00.tsv.gz\n",
       "aws s3 cp s3://amazon-reviews-pds/tsv/amazon_reviews_us_Digital_Video_Download_v1_00.tsv.gz amazon_reviews_us_Digital_Video_Download_v1_00.tsv.gz\n",
       "aws s3 cp s3://amazon-reviews-pds/tsv/amazon_reviews_us_Digital_Software_v1_00.tsv.gz amazon_reviews_us_Digital_Software_v1_00.tsv.gz\n",
       "aws s3 cp s3://amazon-reviews-pds/tsv/amazon_reviews_us_Digital_Music_Purchase_v1_00.tsv.gz amazon_reviews_us_Digital_Music_Purchase_v1_00.tsv.gz\n",
       "aws s3 cp s3://amazon-reviews-pds/tsv/amazon_reviews_us_Digital_Ebook_Purchase_v1_01.tsv.gz amazon_reviews_us_Digital_Ebook_Purchase_v1_01.tsv.gz\n",
       "aws s3 cp s3://amazon-reviews-pds/tsv/amazon_reviews_us_Digital_Ebook_Purchase_v1_00.tsv.gz amazon_reviews_us_Digital_Ebook_Purchase_v1_00.tsv.gz\n",
       "aws s3 cp s3://amazon-reviews-pds/tsv/amazon_reviews_us_Camera_v1_00.tsv.gz amazon_reviews_us_Camera_v1_00.tsv.gz\n",
       "aws s3 cp s3://amazon-reviews-pds/tsv/amazon_reviews_us_Books_v1_02.tsv.gz amazon_reviews_us_Books_v1_02.tsv.gz\n",
       "aws s3 cp s3://amazon-reviews-pds/tsv/amazon_reviews_us_Books_v1_01.tsv.gz amazon_reviews_us_Books_v1_01.tsv.gz\n",
       "aws s3 cp s3://amazon-reviews-pds/tsv/amazon_reviews_us_Books_v1_00.tsv.gz amazon_reviews_us_Books_v1_00.tsv.gz\n",
       "aws s3 cp s3://amazon-reviews-pds/tsv/amazon_reviews_us_Beauty_v1_00.tsv.gz amazon_reviews_us_Beauty_v1_00.tsv.gz\n",
       "aws s3 cp s3://amazon-reviews-pds/tsv/amazon_reviews_us_Baby_v1_00.tsv.gz amazon_reviews_us_Baby_v1_00.tsv.gz\n",
       "aws s3 cp s3://amazon-reviews-pds/tsv/amazon_reviews_us_Automotive_v1_00.tsv.gz amazon_reviews_us_Automotive_v1_00.tsv.gz\n",
       "aws s3 cp s3://amazon-reviews-pds/tsv/amazon_reviews_us_Apparel_v1_00.tsv.gz amazon_reviews_us_Apparel_v1_00.tsv.gz\n",
       "aws s3 cp s3://amazon-reviews-pds/tsv/amazon_reviews_multilingual_US_v1_00.tsv.gz amazon_reviews_multilingual_US_v1_00.tsv.gz\n",
       "aws s3 cp s3://amazon-reviews-pds/tsv/amazon_reviews_multilingual_UK_v1_00.tsv.gz amazon_reviews_multilingual_UK_v1_00.tsv.gz\n",
       "aws s3 cp s3://amazon-reviews-pds/tsv/amazon_reviews_multilingual_JP_v1_00.tsv.gz amazon_reviews_multilingual_JP_v1_00.tsv.gz\n",
       "aws s3 cp s3://amazon-reviews-pds/tsv/amazon_reviews_multilingual_FR_v1_00.tsv.gz amazon_reviews_multilingual_FR_v1_00.tsv.gz\n",
       "aws s3 cp s3://amazon-reviews-pds/tsv/amazon_reviews_multilingual_DE_v1_00.tsv.gz amazon_reviews_multilingual_DE_v1_00.tsv.gz\n",
       "</pre></div>\n",
       "</body>\n",
       "</html>"
      ]
     },
     "metadata": {},
     "output_type": "display_data"
    }
   ],
   "source": [
    "shfilecode = !pygmentize -f html -O full,style=friendly -l bash script/1-3-aws-s3-copy.sh\n",
    "display_html('\\n'.join(shfilecode), raw=True)"
   ]
  },
  {
   "cell_type": "code",
   "execution_count": 47,
   "metadata": {},
   "outputs": [],
   "source": [
    "!#script/1-3-aws-s3-copy.sh"
   ]
  },
  {
   "cell_type": "markdown",
   "metadata": {},
   "source": [
    "## 3. Data Loading\n",
    "### 3.1. Create the Schema (optional) and the Database Table to hold the dataset, as shown below:"
   ]
  },
  {
   "cell_type": "code",
   "execution_count": 48,
   "metadata": {},
   "outputs": [
    {
     "data": {
      "text/html": [
       "<!DOCTYPE html PUBLIC \"-//W3C//DTD HTML 4.01//EN\"\n",
       "   \"http://www.w3.org/TR/html4/strict.dtd\">\n",
       "<!--\n",
       "generated by Pygments <https://pygments.org/>\n",
       "Copyright 2006-2020 by the Pygments team.\n",
       "Licensed under the BSD license, see LICENSE for details.\n",
       "-->\n",
       "<html>\n",
       "<head>\n",
       "  <title></title>\n",
       "  <meta http-equiv=\"content-type\" content=\"text/html; charset=ANSI_X3.4-1968\">\n",
       "  <style type=\"text/css\">\n",
       "/*\n",
       "generated by Pygments <https://pygments.org/>\n",
       "Copyright 2006-2020 by the Pygments team.\n",
       "Licensed under the BSD license, see LICENSE for details.\n",
       "*/\n",
       "pre { line-height: 125%; margin: 0; }\n",
       "td.linenos pre { color: #000000; background-color: #f0f0f0; padding: 0 5px 0 5px; }\n",
       "span.linenos { color: #000000; background-color: #f0f0f0; padding: 0 5px 0 5px; }\n",
       "td.linenos pre.special { color: #000000; background-color: #ffffc0; padding: 0 5px 0 5px; }\n",
       "span.linenos.special { color: #000000; background-color: #ffffc0; padding: 0 5px 0 5px; }\n",
       "body .hll { background-color: #ffffcc }\n",
       "body { background: #f0f0f0; }\n",
       "body .c { color: #60a0b0; font-style: italic } /* Comment */\n",
       "body .err { border: 1px solid #FF0000 } /* Error */\n",
       "body .k { color: #007020; font-weight: bold } /* Keyword */\n",
       "body .o { color: #666666 } /* Operator */\n",
       "body .ch { color: #60a0b0; font-style: italic } /* Comment.Hashbang */\n",
       "body .cm { color: #60a0b0; font-style: italic } /* Comment.Multiline */\n",
       "body .cp { color: #007020 } /* Comment.Preproc */\n",
       "body .cpf { color: #60a0b0; font-style: italic } /* Comment.PreprocFile */\n",
       "body .c1 { color: #60a0b0; font-style: italic } /* Comment.Single */\n",
       "body .cs { color: #60a0b0; background-color: #fff0f0 } /* Comment.Special */\n",
       "body .gd { color: #A00000 } /* Generic.Deleted */\n",
       "body .ge { font-style: italic } /* Generic.Emph */\n",
       "body .gr { color: #FF0000 } /* Generic.Error */\n",
       "body .gh { color: #000080; font-weight: bold } /* Generic.Heading */\n",
       "body .gi { color: #00A000 } /* Generic.Inserted */\n",
       "body .go { color: #888888 } /* Generic.Output */\n",
       "body .gp { color: #c65d09; font-weight: bold } /* Generic.Prompt */\n",
       "body .gs { font-weight: bold } /* Generic.Strong */\n",
       "body .gu { color: #800080; font-weight: bold } /* Generic.Subheading */\n",
       "body .gt { color: #0044DD } /* Generic.Traceback */\n",
       "body .kc { color: #007020; font-weight: bold } /* Keyword.Constant */\n",
       "body .kd { color: #007020; font-weight: bold } /* Keyword.Declaration */\n",
       "body .kn { color: #007020; font-weight: bold } /* Keyword.Namespace */\n",
       "body .kp { color: #007020 } /* Keyword.Pseudo */\n",
       "body .kr { color: #007020; font-weight: bold } /* Keyword.Reserved */\n",
       "body .kt { color: #902000 } /* Keyword.Type */\n",
       "body .m { color: #40a070 } /* Literal.Number */\n",
       "body .s { color: #4070a0 } /* Literal.String */\n",
       "body .na { color: #4070a0 } /* Name.Attribute */\n",
       "body .nb { color: #007020 } /* Name.Builtin */\n",
       "body .nc { color: #0e84b5; font-weight: bold } /* Name.Class */\n",
       "body .no { color: #60add5 } /* Name.Constant */\n",
       "body .nd { color: #555555; font-weight: bold } /* Name.Decorator */\n",
       "body .ni { color: #d55537; font-weight: bold } /* Name.Entity */\n",
       "body .ne { color: #007020 } /* Name.Exception */\n",
       "body .nf { color: #06287e } /* Name.Function */\n",
       "body .nl { color: #002070; font-weight: bold } /* Name.Label */\n",
       "body .nn { color: #0e84b5; font-weight: bold } /* Name.Namespace */\n",
       "body .nt { color: #062873; font-weight: bold } /* Name.Tag */\n",
       "body .nv { color: #bb60d5 } /* Name.Variable */\n",
       "body .ow { color: #007020; font-weight: bold } /* Operator.Word */\n",
       "body .w { color: #bbbbbb } /* Text.Whitespace */\n",
       "body .mb { color: #40a070 } /* Literal.Number.Bin */\n",
       "body .mf { color: #40a070 } /* Literal.Number.Float */\n",
       "body .mh { color: #40a070 } /* Literal.Number.Hex */\n",
       "body .mi { color: #40a070 } /* Literal.Number.Integer */\n",
       "body .mo { color: #40a070 } /* Literal.Number.Oct */\n",
       "body .sa { color: #4070a0 } /* Literal.String.Affix */\n",
       "body .sb { color: #4070a0 } /* Literal.String.Backtick */\n",
       "body .sc { color: #4070a0 } /* Literal.String.Char */\n",
       "body .dl { color: #4070a0 } /* Literal.String.Delimiter */\n",
       "body .sd { color: #4070a0; font-style: italic } /* Literal.String.Doc */\n",
       "body .s2 { color: #4070a0 } /* Literal.String.Double */\n",
       "body .se { color: #4070a0; font-weight: bold } /* Literal.String.Escape */\n",
       "body .sh { color: #4070a0 } /* Literal.String.Heredoc */\n",
       "body .si { color: #70a0d0; font-style: italic } /* Literal.String.Interpol */\n",
       "body .sx { color: #c65d09 } /* Literal.String.Other */\n",
       "body .sr { color: #235388 } /* Literal.String.Regex */\n",
       "body .s1 { color: #4070a0 } /* Literal.String.Single */\n",
       "body .ss { color: #517918 } /* Literal.String.Symbol */\n",
       "body .bp { color: #007020 } /* Name.Builtin.Pseudo */\n",
       "body .fm { color: #06287e } /* Name.Function.Magic */\n",
       "body .vc { color: #bb60d5 } /* Name.Variable.Class */\n",
       "body .vg { color: #bb60d5 } /* Name.Variable.Global */\n",
       "body .vi { color: #bb60d5 } /* Name.Variable.Instance */\n",
       "body .vm { color: #bb60d5 } /* Name.Variable.Magic */\n",
       "body .il { color: #40a070 } /* Literal.Number.Integer.Long */\n",
       "\n",
       "  </style>\n",
       "</head>\n",
       "<body>\n",
       "<h2></h2>\n",
       "\n",
       "<div class=\"highlight\"><pre><span></span><span class=\"k\">DROP</span> <span class=\"k\">SCHEMA</span> <span class=\"k\">IF</span> <span class=\"k\">EXISTS</span> <span class=\"n\">demo</span> <span class=\"k\">CASCADE</span><span class=\"p\">;</span>\n",
       "\n",
       "<span class=\"k\">CREATE</span> <span class=\"k\">SCHEMA</span> <span class=\"n\">demo</span><span class=\"p\">;</span>\n",
       "\n",
       "<span class=\"k\">DROP</span> <span class=\"k\">TABLE</span> <span class=\"k\">IF</span> <span class=\"k\">EXISTS</span> <span class=\"n\">demo</span><span class=\"mf\">.</span><span class=\"n\">amzn_reviews</span><span class=\"p\">;</span>\n",
       "\n",
       "<span class=\"k\">CREATE</span> <span class=\"k\">TABLE</span> <span class=\"n\">demo</span><span class=\"mf\">.</span><span class=\"n\">amzn_reviews</span><span class=\"p\">(</span>\n",
       "  <span class=\"n\">marketplace</span> <span class=\"nb\">TEXT</span><span class=\"p\">,</span> \n",
       "  <span class=\"n\">customer_id</span> <span class=\"nb\">BIGINT</span><span class=\"p\">,</span> \n",
       "  <span class=\"n\">review_id</span> <span class=\"nb\">TEXT</span><span class=\"p\">,</span>\n",
       "  <span class=\"n\">product_id</span> <span class=\"nb\">TEXT</span><span class=\"p\">,</span> \n",
       "  <span class=\"n\">product_parent</span> <span class=\"nb\">BIGINT</span><span class=\"p\">,</span> \n",
       "  <span class=\"n\">product_title</span> <span class=\"nb\">TEXT</span><span class=\"p\">,</span> \n",
       "  <span class=\"n\">product_category</span> <span class=\"nb\">TEXT</span><span class=\"p\">,</span> \n",
       "  <span class=\"n\">star_rating</span> <span class=\"nb\">INTEGER</span><span class=\"p\">,</span> \n",
       "  <span class=\"n\">helpful_votes</span> <span class=\"nb\">INTEGER</span><span class=\"p\">,</span> \n",
       "  <span class=\"n\">total_votes</span> <span class=\"nb\">INTEGER</span><span class=\"p\">,</span> \n",
       "  <span class=\"n\">vine</span> <span class=\"nb\">TEXT</span><span class=\"p\">,</span> \n",
       "  <span class=\"n\">verified_purchase</span> <span class=\"nb\">TEXT</span><span class=\"p\">,</span> \n",
       "  <span class=\"n\">review_headline</span> <span class=\"nb\">TEXT</span><span class=\"p\">,</span> \n",
       "  <span class=\"n\">review_body</span> <span class=\"nb\">TEXT</span><span class=\"p\">,</span> \n",
       "  <span class=\"n\">review_date</span> <span class=\"nb\">DATE</span><span class=\"p\">)</span> \n",
       "<span class=\"n\">DISTRIBUTED</span> <span class=\"k\">BY</span> <span class=\"p\">(</span><span class=\"n\">review_id</span><span class=\"p\">);</span>\n",
       "</pre></div>\n",
       "</body>\n",
       "</html>"
      ]
     },
     "metadata": {},
     "output_type": "display_data"
    }
   ],
   "source": [
    "sqlfilecode = !pygmentize -f html -O full,style=friendly -l postgres script/2-1-create-db-schema-table.sql\n",
    "display_html('\\n'.join(sqlfilecode), raw=True)"
   ]
  },
  {
   "cell_type": "code",
   "execution_count": 49,
   "metadata": {},
   "outputs": [
    {
     "name": "stdout",
     "output_type": "stream",
     "text": [
      "Done.\n",
      "Done.\n",
      "Done.\n",
      "Done.\n"
     ]
    },
    {
     "data": {
      "text/plain": [
       "[]"
      ]
     },
     "execution_count": 49,
     "metadata": {},
     "output_type": "execute_result"
    }
   ],
   "source": [
    "query = !cat script/2-1-create-db-schema-table.sql\n",
    "%sql $DB_USER@$DB_NAME {''.join(query)}"
   ]
  },
  {
   "cell_type": "code",
   "execution_count": 50,
   "metadata": {},
   "outputs": [
    {
     "data": {
      "text/html": [
       "<!DOCTYPE html PUBLIC \"-//W3C//DTD HTML 4.01//EN\"\n",
       "   \"http://www.w3.org/TR/html4/strict.dtd\">\n",
       "<!--\n",
       "generated by Pygments <https://pygments.org/>\n",
       "Copyright 2006-2020 by the Pygments team.\n",
       "Licensed under the BSD license, see LICENSE for details.\n",
       "-->\n",
       "<html>\n",
       "<head>\n",
       "  <title></title>\n",
       "  <meta http-equiv=\"content-type\" content=\"text/html; charset=ANSI_X3.4-1968\">\n",
       "  <style type=\"text/css\">\n",
       "/*\n",
       "generated by Pygments <https://pygments.org/>\n",
       "Copyright 2006-2020 by the Pygments team.\n",
       "Licensed under the BSD license, see LICENSE for details.\n",
       "*/\n",
       "pre { line-height: 125%; margin: 0; }\n",
       "td.linenos pre { color: #000000; background-color: #f0f0f0; padding: 0 5px 0 5px; }\n",
       "span.linenos { color: #000000; background-color: #f0f0f0; padding: 0 5px 0 5px; }\n",
       "td.linenos pre.special { color: #000000; background-color: #ffffc0; padding: 0 5px 0 5px; }\n",
       "span.linenos.special { color: #000000; background-color: #ffffc0; padding: 0 5px 0 5px; }\n",
       "body .hll { background-color: #ffffcc }\n",
       "body { background: #f0f0f0; }\n",
       "body .c { color: #60a0b0; font-style: italic } /* Comment */\n",
       "body .err { border: 1px solid #FF0000 } /* Error */\n",
       "body .k { color: #007020; font-weight: bold } /* Keyword */\n",
       "body .o { color: #666666 } /* Operator */\n",
       "body .ch { color: #60a0b0; font-style: italic } /* Comment.Hashbang */\n",
       "body .cm { color: #60a0b0; font-style: italic } /* Comment.Multiline */\n",
       "body .cp { color: #007020 } /* Comment.Preproc */\n",
       "body .cpf { color: #60a0b0; font-style: italic } /* Comment.PreprocFile */\n",
       "body .c1 { color: #60a0b0; font-style: italic } /* Comment.Single */\n",
       "body .cs { color: #60a0b0; background-color: #fff0f0 } /* Comment.Special */\n",
       "body .gd { color: #A00000 } /* Generic.Deleted */\n",
       "body .ge { font-style: italic } /* Generic.Emph */\n",
       "body .gr { color: #FF0000 } /* Generic.Error */\n",
       "body .gh { color: #000080; font-weight: bold } /* Generic.Heading */\n",
       "body .gi { color: #00A000 } /* Generic.Inserted */\n",
       "body .go { color: #888888 } /* Generic.Output */\n",
       "body .gp { color: #c65d09; font-weight: bold } /* Generic.Prompt */\n",
       "body .gs { font-weight: bold } /* Generic.Strong */\n",
       "body .gu { color: #800080; font-weight: bold } /* Generic.Subheading */\n",
       "body .gt { color: #0044DD } /* Generic.Traceback */\n",
       "body .kc { color: #007020; font-weight: bold } /* Keyword.Constant */\n",
       "body .kd { color: #007020; font-weight: bold } /* Keyword.Declaration */\n",
       "body .kn { color: #007020; font-weight: bold } /* Keyword.Namespace */\n",
       "body .kp { color: #007020 } /* Keyword.Pseudo */\n",
       "body .kr { color: #007020; font-weight: bold } /* Keyword.Reserved */\n",
       "body .kt { color: #902000 } /* Keyword.Type */\n",
       "body .m { color: #40a070 } /* Literal.Number */\n",
       "body .s { color: #4070a0 } /* Literal.String */\n",
       "body .na { color: #4070a0 } /* Name.Attribute */\n",
       "body .nb { color: #007020 } /* Name.Builtin */\n",
       "body .nc { color: #0e84b5; font-weight: bold } /* Name.Class */\n",
       "body .no { color: #60add5 } /* Name.Constant */\n",
       "body .nd { color: #555555; font-weight: bold } /* Name.Decorator */\n",
       "body .ni { color: #d55537; font-weight: bold } /* Name.Entity */\n",
       "body .ne { color: #007020 } /* Name.Exception */\n",
       "body .nf { color: #06287e } /* Name.Function */\n",
       "body .nl { color: #002070; font-weight: bold } /* Name.Label */\n",
       "body .nn { color: #0e84b5; font-weight: bold } /* Name.Namespace */\n",
       "body .nt { color: #062873; font-weight: bold } /* Name.Tag */\n",
       "body .nv { color: #bb60d5 } /* Name.Variable */\n",
       "body .ow { color: #007020; font-weight: bold } /* Operator.Word */\n",
       "body .w { color: #bbbbbb } /* Text.Whitespace */\n",
       "body .mb { color: #40a070 } /* Literal.Number.Bin */\n",
       "body .mf { color: #40a070 } /* Literal.Number.Float */\n",
       "body .mh { color: #40a070 } /* Literal.Number.Hex */\n",
       "body .mi { color: #40a070 } /* Literal.Number.Integer */\n",
       "body .mo { color: #40a070 } /* Literal.Number.Oct */\n",
       "body .sa { color: #4070a0 } /* Literal.String.Affix */\n",
       "body .sb { color: #4070a0 } /* Literal.String.Backtick */\n",
       "body .sc { color: #4070a0 } /* Literal.String.Char */\n",
       "body .dl { color: #4070a0 } /* Literal.String.Delimiter */\n",
       "body .sd { color: #4070a0; font-style: italic } /* Literal.String.Doc */\n",
       "body .s2 { color: #4070a0 } /* Literal.String.Double */\n",
       "body .se { color: #4070a0; font-weight: bold } /* Literal.String.Escape */\n",
       "body .sh { color: #4070a0 } /* Literal.String.Heredoc */\n",
       "body .si { color: #70a0d0; font-style: italic } /* Literal.String.Interpol */\n",
       "body .sx { color: #c65d09 } /* Literal.String.Other */\n",
       "body .sr { color: #235388 } /* Literal.String.Regex */\n",
       "body .s1 { color: #4070a0 } /* Literal.String.Single */\n",
       "body .ss { color: #517918 } /* Literal.String.Symbol */\n",
       "body .bp { color: #007020 } /* Name.Builtin.Pseudo */\n",
       "body .fm { color: #06287e } /* Name.Function.Magic */\n",
       "body .vc { color: #bb60d5 } /* Name.Variable.Class */\n",
       "body .vg { color: #bb60d5 } /* Name.Variable.Global */\n",
       "body .vi { color: #bb60d5 } /* Name.Variable.Instance */\n",
       "body .vm { color: #bb60d5 } /* Name.Variable.Magic */\n",
       "body .il { color: #40a070 } /* Literal.Number.Integer.Long */\n",
       "\n",
       "  </style>\n",
       "</head>\n",
       "<body>\n",
       "<h2></h2>\n",
       "\n",
       "<div class=\"highlight\"><pre><span></span><span class=\"k\">SELECT</span> <span class=\"n\">COUNT</span><span class=\"p\">(</span><span class=\"o\">*</span><span class=\"p\">)</span> <span class=\"k\">FROM</span> <span class=\"n\">demo</span><span class=\"mf\">.</span><span class=\"n\">amzn_reviews</span><span class=\"p\">;</span>\n",
       "</pre></div>\n",
       "</body>\n",
       "</html>"
      ]
     },
     "metadata": {},
     "output_type": "display_data"
    }
   ],
   "source": [
    "sqlfilecode = !pygmentize -f html -O full,style=friendly -l postgres script/2-2-count-table.sql\n",
    "display_html('\\n'.join(sqlfilecode), raw=True)"
   ]
  },
  {
   "cell_type": "code",
   "execution_count": 51,
   "metadata": {},
   "outputs": [
    {
     "name": "stdout",
     "output_type": "stream",
     "text": [
      "1 rows affected.\n"
     ]
    },
    {
     "data": {
      "text/html": [
       "<table>\n",
       "    <tr>\n",
       "        <th>count</th>\n",
       "    </tr>\n",
       "    <tr>\n",
       "        <td>0</td>\n",
       "    </tr>\n",
       "</table>"
      ],
      "text/plain": [
       "[(0,)]"
      ]
     },
     "execution_count": 51,
     "metadata": {},
     "output_type": "execute_result"
    }
   ],
   "source": [
    "query = !cat script/2-2-count-table.sql\n",
    "%sql $DB_USER@$DB_NAME {''.join(query)}"
   ]
  },
  {
   "cell_type": "markdown",
   "metadata": {},
   "source": [
    "### 3.2. Load the Input Dataset using the gpload Utility\n",
    "**gpload** is a data loading utility that acts as an interface to the Greenplum Database external table parallel loading feature. Using a load specification defined in a YAML formatted control file, gpload executes a load by invoking the Greenplum Database parallel file server (**gpfdist**), creating an external table definition based on the source data defined, and executing an *INSERT*, *UPDATE* or *MERGE* operation to load the source data into the target table in the database.\n",
    "\n",
    "You can declare more than one file as input/source as long as the data is of the same format in all files specified. Additionally, if the files are compressed using **gzip** or **bzip2** (have a .gz or .bz2 file extension), the files will be uncompressed automatically (provided that gunzip or bunzip2 is in your path). You can also declare options such as the schema of the source data files, perform basic transformations, define custom delimiter and/or escape character(s), and many more. For the full list of available options, check the GPLoad Utility Reference available on [Pivotal Greenplum Database Documentation](https://gpdb.docs.pivotal.io/latest) (*Pivotal Greenplum Documentation > Utility Guide > Management Utility Reference > gpload*).\n",
    "\n",
    "The operation, including any SQL commands specified in the SQL collection of the YAML control file, are performed as a single transaction to prevent inconsistent data when performing multiple, simultaneous load operations on a target table.\n",
    "\n",
    "For our demo, we have prepared the *gpload_amzn_reviews.yaml* YAML control file, as shown here:"
   ]
  },
  {
   "cell_type": "code",
   "execution_count": 52,
   "metadata": {},
   "outputs": [
    {
     "data": {
      "text/html": [
       "<!DOCTYPE html PUBLIC \"-//W3C//DTD HTML 4.01//EN\"\n",
       "   \"http://www.w3.org/TR/html4/strict.dtd\">\n",
       "<!--\n",
       "generated by Pygments <https://pygments.org/>\n",
       "Copyright 2006-2020 by the Pygments team.\n",
       "Licensed under the BSD license, see LICENSE for details.\n",
       "-->\n",
       "<html>\n",
       "<head>\n",
       "  <title></title>\n",
       "  <meta http-equiv=\"content-type\" content=\"text/html; charset=ANSI_X3.4-1968\">\n",
       "  <style type=\"text/css\">\n",
       "/*\n",
       "generated by Pygments <https://pygments.org/>\n",
       "Copyright 2006-2020 by the Pygments team.\n",
       "Licensed under the BSD license, see LICENSE for details.\n",
       "*/\n",
       "pre { line-height: 125%; margin: 0; }\n",
       "td.linenos pre { color: #000000; background-color: #f0f0f0; padding: 0 5px 0 5px; }\n",
       "span.linenos { color: #000000; background-color: #f0f0f0; padding: 0 5px 0 5px; }\n",
       "td.linenos pre.special { color: #000000; background-color: #ffffc0; padding: 0 5px 0 5px; }\n",
       "span.linenos.special { color: #000000; background-color: #ffffc0; padding: 0 5px 0 5px; }\n",
       "body .hll { background-color: #ffffcc }\n",
       "body { background: #f0f0f0; }\n",
       "body .c { color: #60a0b0; font-style: italic } /* Comment */\n",
       "body .err { border: 1px solid #FF0000 } /* Error */\n",
       "body .k { color: #007020; font-weight: bold } /* Keyword */\n",
       "body .o { color: #666666 } /* Operator */\n",
       "body .ch { color: #60a0b0; font-style: italic } /* Comment.Hashbang */\n",
       "body .cm { color: #60a0b0; font-style: italic } /* Comment.Multiline */\n",
       "body .cp { color: #007020 } /* Comment.Preproc */\n",
       "body .cpf { color: #60a0b0; font-style: italic } /* Comment.PreprocFile */\n",
       "body .c1 { color: #60a0b0; font-style: italic } /* Comment.Single */\n",
       "body .cs { color: #60a0b0; background-color: #fff0f0 } /* Comment.Special */\n",
       "body .gd { color: #A00000 } /* Generic.Deleted */\n",
       "body .ge { font-style: italic } /* Generic.Emph */\n",
       "body .gr { color: #FF0000 } /* Generic.Error */\n",
       "body .gh { color: #000080; font-weight: bold } /* Generic.Heading */\n",
       "body .gi { color: #00A000 } /* Generic.Inserted */\n",
       "body .go { color: #888888 } /* Generic.Output */\n",
       "body .gp { color: #c65d09; font-weight: bold } /* Generic.Prompt */\n",
       "body .gs { font-weight: bold } /* Generic.Strong */\n",
       "body .gu { color: #800080; font-weight: bold } /* Generic.Subheading */\n",
       "body .gt { color: #0044DD } /* Generic.Traceback */\n",
       "body .kc { color: #007020; font-weight: bold } /* Keyword.Constant */\n",
       "body .kd { color: #007020; font-weight: bold } /* Keyword.Declaration */\n",
       "body .kn { color: #007020; font-weight: bold } /* Keyword.Namespace */\n",
       "body .kp { color: #007020 } /* Keyword.Pseudo */\n",
       "body .kr { color: #007020; font-weight: bold } /* Keyword.Reserved */\n",
       "body .kt { color: #902000 } /* Keyword.Type */\n",
       "body .m { color: #40a070 } /* Literal.Number */\n",
       "body .s { color: #4070a0 } /* Literal.String */\n",
       "body .na { color: #4070a0 } /* Name.Attribute */\n",
       "body .nb { color: #007020 } /* Name.Builtin */\n",
       "body .nc { color: #0e84b5; font-weight: bold } /* Name.Class */\n",
       "body .no { color: #60add5 } /* Name.Constant */\n",
       "body .nd { color: #555555; font-weight: bold } /* Name.Decorator */\n",
       "body .ni { color: #d55537; font-weight: bold } /* Name.Entity */\n",
       "body .ne { color: #007020 } /* Name.Exception */\n",
       "body .nf { color: #06287e } /* Name.Function */\n",
       "body .nl { color: #002070; font-weight: bold } /* Name.Label */\n",
       "body .nn { color: #0e84b5; font-weight: bold } /* Name.Namespace */\n",
       "body .nt { color: #062873; font-weight: bold } /* Name.Tag */\n",
       "body .nv { color: #bb60d5 } /* Name.Variable */\n",
       "body .ow { color: #007020; font-weight: bold } /* Operator.Word */\n",
       "body .w { color: #bbbbbb } /* Text.Whitespace */\n",
       "body .mb { color: #40a070 } /* Literal.Number.Bin */\n",
       "body .mf { color: #40a070 } /* Literal.Number.Float */\n",
       "body .mh { color: #40a070 } /* Literal.Number.Hex */\n",
       "body .mi { color: #40a070 } /* Literal.Number.Integer */\n",
       "body .mo { color: #40a070 } /* Literal.Number.Oct */\n",
       "body .sa { color: #4070a0 } /* Literal.String.Affix */\n",
       "body .sb { color: #4070a0 } /* Literal.String.Backtick */\n",
       "body .sc { color: #4070a0 } /* Literal.String.Char */\n",
       "body .dl { color: #4070a0 } /* Literal.String.Delimiter */\n",
       "body .sd { color: #4070a0; font-style: italic } /* Literal.String.Doc */\n",
       "body .s2 { color: #4070a0 } /* Literal.String.Double */\n",
       "body .se { color: #4070a0; font-weight: bold } /* Literal.String.Escape */\n",
       "body .sh { color: #4070a0 } /* Literal.String.Heredoc */\n",
       "body .si { color: #70a0d0; font-style: italic } /* Literal.String.Interpol */\n",
       "body .sx { color: #c65d09 } /* Literal.String.Other */\n",
       "body .sr { color: #235388 } /* Literal.String.Regex */\n",
       "body .s1 { color: #4070a0 } /* Literal.String.Single */\n",
       "body .ss { color: #517918 } /* Literal.String.Symbol */\n",
       "body .bp { color: #007020 } /* Name.Builtin.Pseudo */\n",
       "body .fm { color: #06287e } /* Name.Function.Magic */\n",
       "body .vc { color: #bb60d5 } /* Name.Variable.Class */\n",
       "body .vg { color: #bb60d5 } /* Name.Variable.Global */\n",
       "body .vi { color: #bb60d5 } /* Name.Variable.Instance */\n",
       "body .vm { color: #bb60d5 } /* Name.Variable.Magic */\n",
       "body .il { color: #40a070 } /* Literal.Number.Integer.Long */\n",
       "\n",
       "  </style>\n",
       "</head>\n",
       "<body>\n",
       "<h2></h2>\n",
       "\n",
       "<div class=\"highlight\"><pre><span></span><span class=\"nt\">VERSION</span><span class=\"p\">:</span> <span class=\"l l-Scalar l-Scalar-Plain\">1.0.0.1</span>\n",
       "<span class=\"nt\">GPLOAD</span><span class=\"p\">:</span>\n",
       "   <span class=\"nt\">INPUT</span><span class=\"p\">:</span>\n",
       "    <span class=\"p p-Indicator\">-</span> <span class=\"nt\">SOURCE</span><span class=\"p\">:</span>\n",
       "         <span class=\"nt\">FILE</span><span class=\"p\">:</span>\n",
       "           <span class=\"p p-Indicator\">-</span> <span class=\"l l-Scalar l-Scalar-Plain\">/data1/tmp_s3_data/amazon_reviews_us*.tsv.gz</span>\n",
       "    <span class=\"p p-Indicator\">-</span> <span class=\"nt\">FORMAT</span><span class=\"p\">:</span> <span class=\"l l-Scalar l-Scalar-Plain\">text</span>\n",
       "    <span class=\"p p-Indicator\">-</span> <span class=\"nt\">HEADER</span><span class=\"p\">:</span> <span class=\"l l-Scalar l-Scalar-Plain\">true</span>\n",
       "    <span class=\"p p-Indicator\">-</span> <span class=\"nt\">LOG_ERRORS</span><span class=\"p\">:</span> <span class=\"l l-Scalar l-Scalar-Plain\">true</span>\n",
       "    <span class=\"p p-Indicator\">-</span> <span class=\"nt\">MAX_LINE_LENGTH</span><span class=\"p\">:</span> <span class=\"l l-Scalar l-Scalar-Plain\">100000</span>\n",
       "    <span class=\"p p-Indicator\">-</span> <span class=\"nt\">ERROR_LIMIT</span><span class=\"p\">:</span> <span class=\"l l-Scalar l-Scalar-Plain\">50000</span>\n",
       "   <span class=\"nt\">OUTPUT</span><span class=\"p\">:</span>\n",
       "    <span class=\"p p-Indicator\">-</span> <span class=\"nt\">TABLE</span><span class=\"p\">:</span> <span class=\"l l-Scalar l-Scalar-Plain\">demo.amzn_reviews</span>\n",
       "    <span class=\"p p-Indicator\">-</span> <span class=\"nt\">MODE</span><span class=\"p\">:</span> <span class=\"l l-Scalar l-Scalar-Plain\">insert</span>\n",
       "   <span class=\"nt\">PRELOAD</span><span class=\"p\">:</span>\n",
       "    <span class=\"p p-Indicator\">-</span> <span class=\"nt\">TRUNCATE</span><span class=\"p\">:</span> <span class=\"l l-Scalar l-Scalar-Plain\">true</span>\n",
       "    <span class=\"p p-Indicator\">-</span> <span class=\"nt\">REUSE_TABLES</span><span class=\"p\">:</span> <span class=\"l l-Scalar l-Scalar-Plain\">true</span>\n",
       "</pre></div>\n",
       "</body>\n",
       "</html>"
      ]
     },
     "metadata": {},
     "output_type": "display_data"
    }
   ],
   "source": [
    "sqlfilecode = !pygmentize -f html -O full,style=friendly -l yaml script/3-2-gpload-amzn-reviews.yaml\n",
    "display_html('\\n'.join(sqlfilecode), raw=True)"
   ]
  },
  {
   "cell_type": "markdown",
   "metadata": {},
   "source": [
    "#### 3.2.1. Delete error log information for existing tables in the current database."
   ]
  },
  {
   "cell_type": "code",
   "execution_count": 53,
   "metadata": {},
   "outputs": [
    {
     "data": {
      "text/html": [
       "<!DOCTYPE html PUBLIC \"-//W3C//DTD HTML 4.01//EN\"\n",
       "   \"http://www.w3.org/TR/html4/strict.dtd\">\n",
       "<!--\n",
       "generated by Pygments <https://pygments.org/>\n",
       "Copyright 2006-2020 by the Pygments team.\n",
       "Licensed under the BSD license, see LICENSE for details.\n",
       "-->\n",
       "<html>\n",
       "<head>\n",
       "  <title></title>\n",
       "  <meta http-equiv=\"content-type\" content=\"text/html; charset=ANSI_X3.4-1968\">\n",
       "  <style type=\"text/css\">\n",
       "/*\n",
       "generated by Pygments <https://pygments.org/>\n",
       "Copyright 2006-2020 by the Pygments team.\n",
       "Licensed under the BSD license, see LICENSE for details.\n",
       "*/\n",
       "pre { line-height: 125%; margin: 0; }\n",
       "td.linenos pre { color: #000000; background-color: #f0f0f0; padding: 0 5px 0 5px; }\n",
       "span.linenos { color: #000000; background-color: #f0f0f0; padding: 0 5px 0 5px; }\n",
       "td.linenos pre.special { color: #000000; background-color: #ffffc0; padding: 0 5px 0 5px; }\n",
       "span.linenos.special { color: #000000; background-color: #ffffc0; padding: 0 5px 0 5px; }\n",
       "body .hll { background-color: #ffffcc }\n",
       "body { background: #f0f0f0; }\n",
       "body .c { color: #60a0b0; font-style: italic } /* Comment */\n",
       "body .err { border: 1px solid #FF0000 } /* Error */\n",
       "body .k { color: #007020; font-weight: bold } /* Keyword */\n",
       "body .o { color: #666666 } /* Operator */\n",
       "body .ch { color: #60a0b0; font-style: italic } /* Comment.Hashbang */\n",
       "body .cm { color: #60a0b0; font-style: italic } /* Comment.Multiline */\n",
       "body .cp { color: #007020 } /* Comment.Preproc */\n",
       "body .cpf { color: #60a0b0; font-style: italic } /* Comment.PreprocFile */\n",
       "body .c1 { color: #60a0b0; font-style: italic } /* Comment.Single */\n",
       "body .cs { color: #60a0b0; background-color: #fff0f0 } /* Comment.Special */\n",
       "body .gd { color: #A00000 } /* Generic.Deleted */\n",
       "body .ge { font-style: italic } /* Generic.Emph */\n",
       "body .gr { color: #FF0000 } /* Generic.Error */\n",
       "body .gh { color: #000080; font-weight: bold } /* Generic.Heading */\n",
       "body .gi { color: #00A000 } /* Generic.Inserted */\n",
       "body .go { color: #888888 } /* Generic.Output */\n",
       "body .gp { color: #c65d09; font-weight: bold } /* Generic.Prompt */\n",
       "body .gs { font-weight: bold } /* Generic.Strong */\n",
       "body .gu { color: #800080; font-weight: bold } /* Generic.Subheading */\n",
       "body .gt { color: #0044DD } /* Generic.Traceback */\n",
       "body .kc { color: #007020; font-weight: bold } /* Keyword.Constant */\n",
       "body .kd { color: #007020; font-weight: bold } /* Keyword.Declaration */\n",
       "body .kn { color: #007020; font-weight: bold } /* Keyword.Namespace */\n",
       "body .kp { color: #007020 } /* Keyword.Pseudo */\n",
       "body .kr { color: #007020; font-weight: bold } /* Keyword.Reserved */\n",
       "body .kt { color: #902000 } /* Keyword.Type */\n",
       "body .m { color: #40a070 } /* Literal.Number */\n",
       "body .s { color: #4070a0 } /* Literal.String */\n",
       "body .na { color: #4070a0 } /* Name.Attribute */\n",
       "body .nb { color: #007020 } /* Name.Builtin */\n",
       "body .nc { color: #0e84b5; font-weight: bold } /* Name.Class */\n",
       "body .no { color: #60add5 } /* Name.Constant */\n",
       "body .nd { color: #555555; font-weight: bold } /* Name.Decorator */\n",
       "body .ni { color: #d55537; font-weight: bold } /* Name.Entity */\n",
       "body .ne { color: #007020 } /* Name.Exception */\n",
       "body .nf { color: #06287e } /* Name.Function */\n",
       "body .nl { color: #002070; font-weight: bold } /* Name.Label */\n",
       "body .nn { color: #0e84b5; font-weight: bold } /* Name.Namespace */\n",
       "body .nt { color: #062873; font-weight: bold } /* Name.Tag */\n",
       "body .nv { color: #bb60d5 } /* Name.Variable */\n",
       "body .ow { color: #007020; font-weight: bold } /* Operator.Word */\n",
       "body .w { color: #bbbbbb } /* Text.Whitespace */\n",
       "body .mb { color: #40a070 } /* Literal.Number.Bin */\n",
       "body .mf { color: #40a070 } /* Literal.Number.Float */\n",
       "body .mh { color: #40a070 } /* Literal.Number.Hex */\n",
       "body .mi { color: #40a070 } /* Literal.Number.Integer */\n",
       "body .mo { color: #40a070 } /* Literal.Number.Oct */\n",
       "body .sa { color: #4070a0 } /* Literal.String.Affix */\n",
       "body .sb { color: #4070a0 } /* Literal.String.Backtick */\n",
       "body .sc { color: #4070a0 } /* Literal.String.Char */\n",
       "body .dl { color: #4070a0 } /* Literal.String.Delimiter */\n",
       "body .sd { color: #4070a0; font-style: italic } /* Literal.String.Doc */\n",
       "body .s2 { color: #4070a0 } /* Literal.String.Double */\n",
       "body .se { color: #4070a0; font-weight: bold } /* Literal.String.Escape */\n",
       "body .sh { color: #4070a0 } /* Literal.String.Heredoc */\n",
       "body .si { color: #70a0d0; font-style: italic } /* Literal.String.Interpol */\n",
       "body .sx { color: #c65d09 } /* Literal.String.Other */\n",
       "body .sr { color: #235388 } /* Literal.String.Regex */\n",
       "body .s1 { color: #4070a0 } /* Literal.String.Single */\n",
       "body .ss { color: #517918 } /* Literal.String.Symbol */\n",
       "body .bp { color: #007020 } /* Name.Builtin.Pseudo */\n",
       "body .fm { color: #06287e } /* Name.Function.Magic */\n",
       "body .vc { color: #bb60d5 } /* Name.Variable.Class */\n",
       "body .vg { color: #bb60d5 } /* Name.Variable.Global */\n",
       "body .vi { color: #bb60d5 } /* Name.Variable.Instance */\n",
       "body .vm { color: #bb60d5 } /* Name.Variable.Magic */\n",
       "body .il { color: #40a070 } /* Literal.Number.Integer.Long */\n",
       "\n",
       "  </style>\n",
       "</head>\n",
       "<body>\n",
       "<h2></h2>\n",
       "\n",
       "<div class=\"highlight\"><pre><span></span><span class=\"k\">SELECT</span> <span class=\"n\">gp_truncate_error_log</span><span class=\"p\">(</span><span class=\"s1\">&#39;demo.amzn_reviews&#39;</span><span class=\"p\">);</span>\n",
       "</pre></div>\n",
       "</body>\n",
       "</html>"
      ]
     },
     "metadata": {},
     "output_type": "display_data"
    }
   ],
   "source": [
    "sqlfilecode = !pygmentize -f html -O full,style=friendly -l postgres script/3-1-delete-error-log-info.sql\n",
    "display_html('\\n'.join(sqlfilecode), raw=True)"
   ]
  },
  {
   "cell_type": "code",
   "execution_count": 54,
   "metadata": {},
   "outputs": [
    {
     "name": "stdout",
     "output_type": "stream",
     "text": [
      "1 rows affected.\n"
     ]
    },
    {
     "data": {
      "text/html": [
       "<table>\n",
       "    <tr>\n",
       "        <th>gp_truncate_error_log</th>\n",
       "    </tr>\n",
       "    <tr>\n",
       "        <td>True</td>\n",
       "    </tr>\n",
       "</table>"
      ],
      "text/plain": [
       "[(True,)]"
      ]
     },
     "execution_count": 54,
     "metadata": {},
     "output_type": "execute_result"
    }
   ],
   "source": [
    "query = !cat script/3-1-delete-error-log-info.sql\n",
    "%sql $DB_USER@$DB_NAME {''.join(query)}"
   ]
  },
  {
   "cell_type": "markdown",
   "metadata": {},
   "source": [
    "#### 3.2.2. Copy GPLoad YAML file across to the Database Server and execute"
   ]
  },
  {
   "cell_type": "code",
   "execution_count": null,
   "metadata": {},
   "outputs": [
    {
     "name": "stdout",
     "output_type": "stream",
     "text": [
      "gpload -d demo -h greenplum -U gpadmin -f script/3-2-gpload-amzn-reviews.yaml -l ./gpload_amzn_reviews.log 2>&1\n",
      "2020-09-23 08:06:20|INFO|gpload session started 2020-09-23 08:06:20\n",
      "2020-09-23 08:06:21|INFO|started gpfdist -p 8000 -P 9000 -f \"/data1/tmp_s3_data/amazon_reviews_us*.tsv.gz\" -t 30 -m 100000\n",
      "2020-09-23 08:06:21|INFO|did not find an external table to reuse. creating ext_gpload_reusable_aa2543e4_fd73_11ea_8680_4284c3410404\n"
     ]
    }
   ],
   "source": [
    "cmd = \"gpload -d {0} -h {1} -U {2} -f script/3-2-gpload-amzn-reviews.yaml -l ./gpload_amzn_reviews.log 2>&1\".format(DB_NAME,DB_SERVER,DB_USER) \n",
    "\n",
    "#cmd = \"gpload.py -d {0} -f script/3-2-gpload-amzn-reviews.yaml -l ./gpload_amzn_reviews.log 2>&1\".format(DB_NAME) \n",
    "print(cmd)\n",
    "!export GPHOME=/usr/local/greenplum-db-clients/ && export PATH=$GPHOME/bin:$PATH && /usr/local/greenplum-db-clients/greenplum_clients_path.sh  && /usr/local/greenplum-db-clients/greenplum_loaders_path.sh\n",
    "!$cmd"
   ]
  },
  {
   "cell_type": "markdown",
   "metadata": {},
   "source": [
    "### 3.3. Check gpload execution\n",
    "\n",
    "Check **gpload** execution output (shown above and also available on *./gpload_amzn_reviews.log*), confirm successful loading of the data and/or identify any message which require ones attention and/or actions:\n",
    "\n",
    "#### 3.3.1. Check the data has been properly loaded, by confirming row count shown above:"
   ]
  },
  {
   "cell_type": "code",
   "execution_count": 33,
   "metadata": {},
   "outputs": [
    {
     "data": {
      "text/html": [
       "<!DOCTYPE html PUBLIC \"-//W3C//DTD HTML 4.01//EN\"\n",
       "   \"http://www.w3.org/TR/html4/strict.dtd\">\n",
       "<!--\n",
       "generated by Pygments <https://pygments.org/>\n",
       "Copyright 2006-2020 by the Pygments team.\n",
       "Licensed under the BSD license, see LICENSE for details.\n",
       "-->\n",
       "<html>\n",
       "<head>\n",
       "  <title></title>\n",
       "  <meta http-equiv=\"content-type\" content=\"text/html; charset=ANSI_X3.4-1968\">\n",
       "  <style type=\"text/css\">\n",
       "/*\n",
       "generated by Pygments <https://pygments.org/>\n",
       "Copyright 2006-2020 by the Pygments team.\n",
       "Licensed under the BSD license, see LICENSE for details.\n",
       "*/\n",
       "pre { line-height: 125%; margin: 0; }\n",
       "td.linenos pre { color: #000000; background-color: #f0f0f0; padding: 0 5px 0 5px; }\n",
       "span.linenos { color: #000000; background-color: #f0f0f0; padding: 0 5px 0 5px; }\n",
       "td.linenos pre.special { color: #000000; background-color: #ffffc0; padding: 0 5px 0 5px; }\n",
       "span.linenos.special { color: #000000; background-color: #ffffc0; padding: 0 5px 0 5px; }\n",
       "body .hll { background-color: #ffffcc }\n",
       "body { background: #f0f0f0; }\n",
       "body .c { color: #60a0b0; font-style: italic } /* Comment */\n",
       "body .err { border: 1px solid #FF0000 } /* Error */\n",
       "body .k { color: #007020; font-weight: bold } /* Keyword */\n",
       "body .o { color: #666666 } /* Operator */\n",
       "body .ch { color: #60a0b0; font-style: italic } /* Comment.Hashbang */\n",
       "body .cm { color: #60a0b0; font-style: italic } /* Comment.Multiline */\n",
       "body .cp { color: #007020 } /* Comment.Preproc */\n",
       "body .cpf { color: #60a0b0; font-style: italic } /* Comment.PreprocFile */\n",
       "body .c1 { color: #60a0b0; font-style: italic } /* Comment.Single */\n",
       "body .cs { color: #60a0b0; background-color: #fff0f0 } /* Comment.Special */\n",
       "body .gd { color: #A00000 } /* Generic.Deleted */\n",
       "body .ge { font-style: italic } /* Generic.Emph */\n",
       "body .gr { color: #FF0000 } /* Generic.Error */\n",
       "body .gh { color: #000080; font-weight: bold } /* Generic.Heading */\n",
       "body .gi { color: #00A000 } /* Generic.Inserted */\n",
       "body .go { color: #888888 } /* Generic.Output */\n",
       "body .gp { color: #c65d09; font-weight: bold } /* Generic.Prompt */\n",
       "body .gs { font-weight: bold } /* Generic.Strong */\n",
       "body .gu { color: #800080; font-weight: bold } /* Generic.Subheading */\n",
       "body .gt { color: #0044DD } /* Generic.Traceback */\n",
       "body .kc { color: #007020; font-weight: bold } /* Keyword.Constant */\n",
       "body .kd { color: #007020; font-weight: bold } /* Keyword.Declaration */\n",
       "body .kn { color: #007020; font-weight: bold } /* Keyword.Namespace */\n",
       "body .kp { color: #007020 } /* Keyword.Pseudo */\n",
       "body .kr { color: #007020; font-weight: bold } /* Keyword.Reserved */\n",
       "body .kt { color: #902000 } /* Keyword.Type */\n",
       "body .m { color: #40a070 } /* Literal.Number */\n",
       "body .s { color: #4070a0 } /* Literal.String */\n",
       "body .na { color: #4070a0 } /* Name.Attribute */\n",
       "body .nb { color: #007020 } /* Name.Builtin */\n",
       "body .nc { color: #0e84b5; font-weight: bold } /* Name.Class */\n",
       "body .no { color: #60add5 } /* Name.Constant */\n",
       "body .nd { color: #555555; font-weight: bold } /* Name.Decorator */\n",
       "body .ni { color: #d55537; font-weight: bold } /* Name.Entity */\n",
       "body .ne { color: #007020 } /* Name.Exception */\n",
       "body .nf { color: #06287e } /* Name.Function */\n",
       "body .nl { color: #002070; font-weight: bold } /* Name.Label */\n",
       "body .nn { color: #0e84b5; font-weight: bold } /* Name.Namespace */\n",
       "body .nt { color: #062873; font-weight: bold } /* Name.Tag */\n",
       "body .nv { color: #bb60d5 } /* Name.Variable */\n",
       "body .ow { color: #007020; font-weight: bold } /* Operator.Word */\n",
       "body .w { color: #bbbbbb } /* Text.Whitespace */\n",
       "body .mb { color: #40a070 } /* Literal.Number.Bin */\n",
       "body .mf { color: #40a070 } /* Literal.Number.Float */\n",
       "body .mh { color: #40a070 } /* Literal.Number.Hex */\n",
       "body .mi { color: #40a070 } /* Literal.Number.Integer */\n",
       "body .mo { color: #40a070 } /* Literal.Number.Oct */\n",
       "body .sa { color: #4070a0 } /* Literal.String.Affix */\n",
       "body .sb { color: #4070a0 } /* Literal.String.Backtick */\n",
       "body .sc { color: #4070a0 } /* Literal.String.Char */\n",
       "body .dl { color: #4070a0 } /* Literal.String.Delimiter */\n",
       "body .sd { color: #4070a0; font-style: italic } /* Literal.String.Doc */\n",
       "body .s2 { color: #4070a0 } /* Literal.String.Double */\n",
       "body .se { color: #4070a0; font-weight: bold } /* Literal.String.Escape */\n",
       "body .sh { color: #4070a0 } /* Literal.String.Heredoc */\n",
       "body .si { color: #70a0d0; font-style: italic } /* Literal.String.Interpol */\n",
       "body .sx { color: #c65d09 } /* Literal.String.Other */\n",
       "body .sr { color: #235388 } /* Literal.String.Regex */\n",
       "body .s1 { color: #4070a0 } /* Literal.String.Single */\n",
       "body .ss { color: #517918 } /* Literal.String.Symbol */\n",
       "body .bp { color: #007020 } /* Name.Builtin.Pseudo */\n",
       "body .fm { color: #06287e } /* Name.Function.Magic */\n",
       "body .vc { color: #bb60d5 } /* Name.Variable.Class */\n",
       "body .vg { color: #bb60d5 } /* Name.Variable.Global */\n",
       "body .vi { color: #bb60d5 } /* Name.Variable.Instance */\n",
       "body .vm { color: #bb60d5 } /* Name.Variable.Magic */\n",
       "body .il { color: #40a070 } /* Literal.Number.Integer.Long */\n",
       "\n",
       "  </style>\n",
       "</head>\n",
       "<body>\n",
       "<h2></h2>\n",
       "\n",
       "<div class=\"highlight\"><pre><span></span><span class=\"k\">SELECT</span> <span class=\"n\">COUNT</span><span class=\"p\">(</span><span class=\"o\">*</span><span class=\"p\">)</span> <span class=\"k\">FROM</span> <span class=\"n\">demo</span><span class=\"mf\">.</span><span class=\"n\">amzn_reviews</span><span class=\"p\">;</span>\n",
       "</pre></div>\n",
       "</body>\n",
       "</html>"
      ]
     },
     "metadata": {},
     "output_type": "display_data"
    }
   ],
   "source": [
    "sqlfilecode = !pygmentize -f html -O full,style=friendly -l postgres script/3-3-count-amzn-reviews.sql\n",
    "display_html('\\n'.join(sqlfilecode), raw=True)"
   ]
  },
  {
   "cell_type": "code",
   "execution_count": 36,
   "metadata": {},
   "outputs": [
    {
     "name": "stdout",
     "output_type": "stream",
     "text": [
      "1 rows affected.\n"
     ]
    },
    {
     "data": {
      "text/html": [
       "<table>\n",
       "    <tr>\n",
       "        <th>count</th>\n",
       "    </tr>\n",
       "    <tr>\n",
       "        <td>150955707</td>\n",
       "    </tr>\n",
       "</table>"
      ],
      "text/plain": [
       "[(150955707,)]"
      ]
     },
     "execution_count": 36,
     "metadata": {},
     "output_type": "execute_result"
    }
   ],
   "source": [
    "query = !cat script/3-3-count-amzn-reviews.sql\n",
    "%sql $DB_USER@$DB_SERVER {''.join(query)}"
   ]
  },
  {
   "cell_type": "code",
   "execution_count": 39,
   "metadata": {},
   "outputs": [
    {
     "name": "stdout",
     "output_type": "stream",
     "text": [
      "[\"select COUNT(*) from gp_read_error_log('ext_gpload_reusable_9051c6c0_fce4_11ea_a476_4284c3410404') where cmdtime > to_timestamp('1600786919.22')\"]\n",
      "1 rows affected.\n"
     ]
    },
    {
     "data": {
      "text/html": [
       "<table>\n",
       "    <tr>\n",
       "        <th>count</th>\n",
       "    </tr>\n",
       "    <tr>\n",
       "        <td>7622</td>\n",
       "    </tr>\n",
       "</table>"
      ],
      "text/plain": [
       "[(7622,)]"
      ]
     },
     "execution_count": 39,
     "metadata": {},
     "output_type": "execute_result"
    }
   ],
   "source": [
    "cmd = 'cat gpload_amzn_reviews.log\\\n",
    "    | grep -e '\"'\"'WARN|select'\"'\"'\\\n",
    "    | awk '\"'\"'BEGIN{FS=\"|\";OFS=\" \"} {print $3}'\"'\"'\\\n",
    "    | awk '\"'\"'{print $1, \"COUNT(*)\", $3, $4, $5, $6, $7, $8}'\"'\"''\n",
    "query = !$cmd\n",
    "print(query)\n",
    "%sql $DB_USER@$DB_NAME {''.join(query)}"
   ]
  },
  {
   "cell_type": "markdown",
   "metadata": {},
   "source": [
    "### Continue to Part 2 of Greenplum Database Concepts Explained; [Basic Table Functions](AWS-GP-demo-2.ipynb)."
   ]
  }
 ],
 "metadata": {
  "kernelspec": {
   "display_name": "Python 3",
   "language": "python",
   "name": "python3"
  },
  "language_info": {
   "codemirror_mode": {
    "name": "ipython",
    "version": 3
   },
   "file_extension": ".py",
   "mimetype": "text/x-python",
   "name": "python",
   "nbconvert_exporter": "python",
   "pygments_lexer": "ipython3",
   "version": "3.6.9"
  }
 },
 "nbformat": 4,
 "nbformat_minor": 2
}
