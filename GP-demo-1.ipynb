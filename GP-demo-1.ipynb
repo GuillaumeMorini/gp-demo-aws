{
 "cells": [
  {
   "cell_type": "markdown",
   "metadata": {},
   "source": [
    "# Greenplum Demo, 07/2019\n",
    "\n",
    "## Step 0 - System and Connection Check\n",
    "- Start with gpstate. Use jupyter, dbeaver or pgadmin for queries.\n",
    "- Check *gp_autostats_mode* is set to **NONE**. This will avoid analyze time in loading and is required for one of the steps when running explain."
   ]
  },
  {
   "cell_type": "code",
   "execution_count": 2,
   "metadata": {},
   "outputs": [],
   "source": [
    "import os, re\n",
    "from IPython.display import display_html\n",
    "\n",
    "from pygments import highlight\n",
    "from pygments.lexers import PostgresLexer\n",
    "from pygments.formatters import HtmlFormatter\n",
    "\n",
    "CONNECTION_STRING = os.getenv('GPDBCONN')\n",
    "\n",
    "cs = re.match('^postgresql:\\/\\/(\\S+):(\\S+)@(\\S+):(\\S+)\\/(\\S+)$', CONNECTION_STRING)\n",
    "\n",
    "DB_USER   = cs.group(1)\n",
    "DB_PWD    = cs.group(2)\n",
    "DB_SERVER = cs.group(3)\n",
    "DB_PORT   = cs.group(4)\n",
    "DB_NAME   = cs.group(5)"
   ]
  },
  {
   "cell_type": "code",
   "execution_count": 2,
   "metadata": {},
   "outputs": [
    {
     "data": {
      "text/plain": [
       "u'Connected: gpadmin@gpadmin'"
      ]
     },
     "execution_count": 2,
     "metadata": {},
     "output_type": "execute_result"
    }
   ],
   "source": [
    "%reload_ext sql\n",
    "%sql $CONNECTION_STRING"
   ]
  },
  {
   "cell_type": "code",
   "execution_count": 3,
   "metadata": {},
   "outputs": [
    {
     "name": "stdout",
     "output_type": "stream",
     "text": [
      "1 rows affected.\n"
     ]
    },
    {
     "data": {
      "text/html": [
       "<table>\n",
       "    <tr>\n",
       "        <th>gp_autostats_mode</th>\n",
       "    </tr>\n",
       "    <tr>\n",
       "        <td>ON_NO_STATS</td>\n",
       "    </tr>\n",
       "</table>"
      ],
      "text/plain": [
       "[(u'ON_NO_STATS',)]"
      ]
     },
     "execution_count": 3,
     "metadata": {},
     "output_type": "execute_result"
    }
   ],
   "source": [
    "%%sql $DB_USER@$DB_SERVER\n",
    "SHOW gp_autostats_mode;"
   ]
  },
  {
   "cell_type": "code",
   "execution_count": 4,
   "metadata": {},
   "outputs": [
    {
     "name": "stdout",
     "output_type": "stream",
     "text": [
      "Done.\n"
     ]
    },
    {
     "data": {
      "text/plain": [
       "[]"
      ]
     },
     "execution_count": 4,
     "metadata": {},
     "output_type": "execute_result"
    }
   ],
   "source": [
    "%%sql $DB_USER@$DB_SERVER\n",
    "SET gp_autostats_mode = 'NONE';"
   ]
  },
  {
   "cell_type": "code",
   "execution_count": 5,
   "metadata": {
    "scrolled": true
   },
   "outputs": [
    {
     "name": "stdout",
     "output_type": "stream",
     "text": [
      "1 rows affected.\n"
     ]
    },
    {
     "data": {
      "text/html": [
       "<table>\n",
       "    <tr>\n",
       "        <th>version</th>\n",
       "    </tr>\n",
       "    <tr>\n",
       "        <td>PostgreSQL 8.3.23 (Greenplum Database 5.21.0 build commit:27db6bab4c909daa8d6699d94cabc48f87b07fab) on x86_64-pc-linux-gnu, compiled by GCC gcc (GCC) 6.2.0, 64-bit compiled on Jul 12 2019 23:39:01</td>\n",
       "    </tr>\n",
       "</table>"
      ],
      "text/plain": [
       "[(u'PostgreSQL 8.3.23 (Greenplum Database 5.21.0 build commit:27db6bab4c909daa8d6699d94cabc48f87b07fab) on x86_64-pc-linux-gnu, compiled by GCC gcc (GCC) 6.2.0, 64-bit compiled on Jul 12 2019 23:39:01',)]"
      ]
     },
     "execution_count": 5,
     "metadata": {},
     "output_type": "execute_result"
    }
   ],
   "source": [
    "%%sql $DB_USER@$DB_SERVER\n",
    "SELECT version();"
   ]
  },
  {
   "cell_type": "markdown",
   "metadata": {},
   "source": [
    "## Step 1. The Amazon Customer Reviews Dataset\n",
    "\n",
    "Over 130+ million customer reviews are available to researchers as part of this release. The data is available in TSV files in the amazon-reviews-pds S3 bucket in AWS US East Region. Each line in the data files corresponds to an individual review (tab delimited, with no quote and escape characters). Samples of the data are available in English and French; more details on the information in each column can be found [here](https://s3.amazonaws.com/amazon-reviews-pds/tsv/index.txt).\n",
    "\n",
    "If you use the AWS Command Line Interface, you can list data in the bucket with the `ls` command: \n",
    "\n",
    "```aws s3 ls s3://amazon-reviews-pds/tsv/```\n",
    "\n",
    "To download data using the AWS Command Line Interface, you can use the `cp` command. For instance, the following command will copy the file named `amazon_reviews_us_Camera_v1_00.tsv.gz` to your local directory:\n",
    "\n",
    "```aws s3 cp s3://amazon-reviews-pds/tsv/amazon_reviews_us_Camera_v1_00.tsv.gz```\n",
    "\n",
    "For our demo, we choose to download three files under the `/home/gpadmin/data/` folder, using the `aws s3 cp <S3 File> <Local File>` command described above:\n",
    "- [`s3://amazon-reviews-pds/tsv/amazon_reviews_us_Home_Entertainment_v1_00.tsv.gz`](s3://amazon-reviews-pds/tsv/amazon_reviews_us_Home_Entertainment_v1_00.tsv.gz) (~185MB)\n",
    "- [`s3://amazon-reviews-pds/tsv/amazon_reviews_us_Mobile_Electronics_v1_00.tsv.gz`](s3://amazon-reviews-pds/tsv/amazon_reviews_us_Mobile_Electronics_v1_00.tsv.gz) (~22MB)\n",
    "- [`s3://amazon-reviews-pds/tsv/amazon_reviews_us_Office_Products_v1_00.tsv.gz`](s3://amazon-reviews-pds/tsv/amazon_reviews_us_Office_Products_v1_00.tsv.gz) (~489MB)"
   ]
  },
  {
   "cell_type": "markdown",
   "metadata": {},
   "source": [
    "## Step 2. Create Database Table to hold the Dataset\n",
    "\n",
    "### Create the Schema (optional) and the Database Table to hold the dataset, as shown below:"
   ]
  },
  {
   "cell_type": "code",
   "execution_count": 11,
   "metadata": {},
   "outputs": [
    {
     "data": {
      "text/html": [
       "<!DOCTYPE html PUBLIC \"-//W3C//DTD HTML 4.01//EN\"\n",
       "   \"http://www.w3.org/TR/html4/strict.dtd\">\n",
       "\n",
       "<html>\n",
       "<head>\n",
       "  <title></title>\n",
       "  <meta http-equiv=\"content-type\" content=\"text/html; charset=UTF-8\">\n",
       "  <style type=\"text/css\">\n",
       "td.linenos { background-color: #f0f0f0; padding-right: 10px; }\n",
       "span.lineno { background-color: #f0f0f0; padding: 0 5px 0 5px; }\n",
       "pre { line-height: 125%; }\n",
       "body .hll { background-color: #ffffcc }\n",
       "body  { background: #f0f0f0; }\n",
       "body .c { color: #60a0b0; font-style: italic } /* Comment */\n",
       "body .err { border: 1px solid #FF0000 } /* Error */\n",
       "body .k { color: #007020; font-weight: bold } /* Keyword */\n",
       "body .o { color: #666666 } /* Operator */\n",
       "body .ch { color: #60a0b0; font-style: italic } /* Comment.Hashbang */\n",
       "body .cm { color: #60a0b0; font-style: italic } /* Comment.Multiline */\n",
       "body .cp { color: #007020 } /* Comment.Preproc */\n",
       "body .cpf { color: #60a0b0; font-style: italic } /* Comment.PreprocFile */\n",
       "body .c1 { color: #60a0b0; font-style: italic } /* Comment.Single */\n",
       "body .cs { color: #60a0b0; background-color: #fff0f0 } /* Comment.Special */\n",
       "body .gd { color: #A00000 } /* Generic.Deleted */\n",
       "body .ge { font-style: italic } /* Generic.Emph */\n",
       "body .gr { color: #FF0000 } /* Generic.Error */\n",
       "body .gh { color: #000080; font-weight: bold } /* Generic.Heading */\n",
       "body .gi { color: #00A000 } /* Generic.Inserted */\n",
       "body .go { color: #888888 } /* Generic.Output */\n",
       "body .gp { color: #c65d09; font-weight: bold } /* Generic.Prompt */\n",
       "body .gs { font-weight: bold } /* Generic.Strong */\n",
       "body .gu { color: #800080; font-weight: bold } /* Generic.Subheading */\n",
       "body .gt { color: #0044DD } /* Generic.Traceback */\n",
       "body .kc { color: #007020; font-weight: bold } /* Keyword.Constant */\n",
       "body .kd { color: #007020; font-weight: bold } /* Keyword.Declaration */\n",
       "body .kn { color: #007020; font-weight: bold } /* Keyword.Namespace */\n",
       "body .kp { color: #007020 } /* Keyword.Pseudo */\n",
       "body .kr { color: #007020; font-weight: bold } /* Keyword.Reserved */\n",
       "body .kt { color: #902000 } /* Keyword.Type */\n",
       "body .m { color: #40a070 } /* Literal.Number */\n",
       "body .s { color: #4070a0 } /* Literal.String */\n",
       "body .na { color: #4070a0 } /* Name.Attribute */\n",
       "body .nb { color: #007020 } /* Name.Builtin */\n",
       "body .nc { color: #0e84b5; font-weight: bold } /* Name.Class */\n",
       "body .no { color: #60add5 } /* Name.Constant */\n",
       "body .nd { color: #555555; font-weight: bold } /* Name.Decorator */\n",
       "body .ni { color: #d55537; font-weight: bold } /* Name.Entity */\n",
       "body .ne { color: #007020 } /* Name.Exception */\n",
       "body .nf { color: #06287e } /* Name.Function */\n",
       "body .nl { color: #002070; font-weight: bold } /* Name.Label */\n",
       "body .nn { color: #0e84b5; font-weight: bold } /* Name.Namespace */\n",
       "body .nt { color: #062873; font-weight: bold } /* Name.Tag */\n",
       "body .nv { color: #bb60d5 } /* Name.Variable */\n",
       "body .ow { color: #007020; font-weight: bold } /* Operator.Word */\n",
       "body .w { color: #bbbbbb } /* Text.Whitespace */\n",
       "body .mb { color: #40a070 } /* Literal.Number.Bin */\n",
       "body .mf { color: #40a070 } /* Literal.Number.Float */\n",
       "body .mh { color: #40a070 } /* Literal.Number.Hex */\n",
       "body .mi { color: #40a070 } /* Literal.Number.Integer */\n",
       "body .mo { color: #40a070 } /* Literal.Number.Oct */\n",
       "body .sa { color: #4070a0 } /* Literal.String.Affix */\n",
       "body .sb { color: #4070a0 } /* Literal.String.Backtick */\n",
       "body .sc { color: #4070a0 } /* Literal.String.Char */\n",
       "body .dl { color: #4070a0 } /* Literal.String.Delimiter */\n",
       "body .sd { color: #4070a0; font-style: italic } /* Literal.String.Doc */\n",
       "body .s2 { color: #4070a0 } /* Literal.String.Double */\n",
       "body .se { color: #4070a0; font-weight: bold } /* Literal.String.Escape */\n",
       "body .sh { color: #4070a0 } /* Literal.String.Heredoc */\n",
       "body .si { color: #70a0d0; font-style: italic } /* Literal.String.Interpol */\n",
       "body .sx { color: #c65d09 } /* Literal.String.Other */\n",
       "body .sr { color: #235388 } /* Literal.String.Regex */\n",
       "body .s1 { color: #4070a0 } /* Literal.String.Single */\n",
       "body .ss { color: #517918 } /* Literal.String.Symbol */\n",
       "body .bp { color: #007020 } /* Name.Builtin.Pseudo */\n",
       "body .fm { color: #06287e } /* Name.Function.Magic */\n",
       "body .vc { color: #bb60d5 } /* Name.Variable.Class */\n",
       "body .vg { color: #bb60d5 } /* Name.Variable.Global */\n",
       "body .vi { color: #bb60d5 } /* Name.Variable.Instance */\n",
       "body .vm { color: #bb60d5 } /* Name.Variable.Magic */\n",
       "body .il { color: #40a070 } /* Literal.Number.Integer.Long */\n",
       "\n",
       "  </style>\n",
       "</head>\n",
       "<body>\n",
       "<h2></h2>\n",
       "\n",
       "<div class=\"highlight\"><pre><span></span><span class=\"k\">DROP</span> <span class=\"k\">SCHEMA</span> <span class=\"k\">IF</span> <span class=\"k\">EXISTS</span> <span class=\"n\">demo</span> <span class=\"k\">CASCADE</span><span class=\"p\">;</span>\n",
       "\n",
       "<span class=\"k\">CREATE</span> <span class=\"k\">SCHEMA</span> <span class=\"n\">demo</span><span class=\"p\">;</span>\n",
       "\n",
       "<span class=\"k\">DROP</span> <span class=\"k\">TABLE</span> <span class=\"k\">IF</span> <span class=\"k\">EXISTS</span> <span class=\"n\">demo</span><span class=\"mf\">.</span><span class=\"n\">amzn_reviews</span><span class=\"p\">;</span>\n",
       "\n",
       "<span class=\"k\">CREATE</span> <span class=\"k\">TABLE</span> <span class=\"n\">demo</span><span class=\"mf\">.</span><span class=\"n\">amzn_reviews</span><span class=\"p\">(</span>\n",
       "  <span class=\"n\">marketplace</span> <span class=\"nb\">TEXT</span><span class=\"p\">,</span> \n",
       "  <span class=\"n\">customer_id</span> <span class=\"nb\">BIGINT</span><span class=\"p\">,</span> \n",
       "  <span class=\"n\">review_id</span> <span class=\"nb\">TEXT</span><span class=\"p\">,</span>\n",
       "  <span class=\"n\">product_id</span> <span class=\"nb\">TEXT</span><span class=\"p\">,</span> \n",
       "  <span class=\"n\">product_parent</span> <span class=\"nb\">BIGINT</span><span class=\"p\">,</span> \n",
       "  <span class=\"n\">product_title</span> <span class=\"nb\">TEXT</span><span class=\"p\">,</span> \n",
       "  <span class=\"n\">product_category</span> <span class=\"nb\">TEXT</span><span class=\"p\">,</span> \n",
       "  <span class=\"n\">star_rating</span> <span class=\"nb\">INTEGER</span><span class=\"p\">,</span> \n",
       "  <span class=\"n\">helpful_votes</span> <span class=\"nb\">INTEGER</span><span class=\"p\">,</span> \n",
       "  <span class=\"n\">total_votes</span> <span class=\"nb\">INTEGER</span><span class=\"p\">,</span> \n",
       "  <span class=\"n\">vine</span> <span class=\"nb\">TEXT</span><span class=\"p\">,</span> \n",
       "  <span class=\"n\">verified_purchase</span> <span class=\"nb\">TEXT</span><span class=\"p\">,</span> \n",
       "  <span class=\"n\">review_headline</span> <span class=\"nb\">TEXT</span><span class=\"p\">,</span> \n",
       "  <span class=\"n\">review_body</span> <span class=\"nb\">TEXT</span><span class=\"p\">,</span> \n",
       "  <span class=\"n\">review_date</span> <span class=\"nb\">DATE</span><span class=\"p\">)</span> \n",
       "<span class=\"n\">DISTRIBUTED</span> <span class=\"k\">BY</span> <span class=\"p\">(</span><span class=\"n\">review_id</span><span class=\"p\">);</span>\n",
       "</pre></div>\n",
       "</body>\n",
       "</html>"
      ]
     },
     "metadata": {},
     "output_type": "display_data"
    }
   ],
   "source": [
    "sqlfilecode = !pygmentize -f html -O full,style=friendly -l postgres script/2-1-create-db-schema-table.sql\n",
    "display_html('\\n'.join(sqlfilecode), raw=True)"
   ]
  },
  {
   "cell_type": "code",
   "execution_count": 49,
   "metadata": {},
   "outputs": [
    {
     "name": "stdout",
     "output_type": "stream",
     "text": [
      "Done.\n",
      "Done.\n",
      "Done.\n",
      "Done.\n"
     ]
    },
    {
     "data": {
      "text/plain": [
       "[]"
      ]
     },
     "execution_count": 49,
     "metadata": {},
     "output_type": "execute_result"
    }
   ],
   "source": [
    "query = !cat script/2-1-create-db-schema-table.sql\n",
    "\n",
    "%sql $DB_USER@$DB_SERVER {''.join(query)}"
   ]
  },
  {
   "cell_type": "code",
   "execution_count": 12,
   "metadata": {},
   "outputs": [
    {
     "data": {
      "text/html": [
       "<!DOCTYPE html PUBLIC \"-//W3C//DTD HTML 4.01//EN\"\n",
       "   \"http://www.w3.org/TR/html4/strict.dtd\">\n",
       "\n",
       "<html>\n",
       "<head>\n",
       "  <title></title>\n",
       "  <meta http-equiv=\"content-type\" content=\"text/html; charset=UTF-8\">\n",
       "  <style type=\"text/css\">\n",
       "td.linenos { background-color: #f0f0f0; padding-right: 10px; }\n",
       "span.lineno { background-color: #f0f0f0; padding: 0 5px 0 5px; }\n",
       "pre { line-height: 125%; }\n",
       "body .hll { background-color: #ffffcc }\n",
       "body  { background: #f0f0f0; }\n",
       "body .c { color: #60a0b0; font-style: italic } /* Comment */\n",
       "body .err { border: 1px solid #FF0000 } /* Error */\n",
       "body .k { color: #007020; font-weight: bold } /* Keyword */\n",
       "body .o { color: #666666 } /* Operator */\n",
       "body .ch { color: #60a0b0; font-style: italic } /* Comment.Hashbang */\n",
       "body .cm { color: #60a0b0; font-style: italic } /* Comment.Multiline */\n",
       "body .cp { color: #007020 } /* Comment.Preproc */\n",
       "body .cpf { color: #60a0b0; font-style: italic } /* Comment.PreprocFile */\n",
       "body .c1 { color: #60a0b0; font-style: italic } /* Comment.Single */\n",
       "body .cs { color: #60a0b0; background-color: #fff0f0 } /* Comment.Special */\n",
       "body .gd { color: #A00000 } /* Generic.Deleted */\n",
       "body .ge { font-style: italic } /* Generic.Emph */\n",
       "body .gr { color: #FF0000 } /* Generic.Error */\n",
       "body .gh { color: #000080; font-weight: bold } /* Generic.Heading */\n",
       "body .gi { color: #00A000 } /* Generic.Inserted */\n",
       "body .go { color: #888888 } /* Generic.Output */\n",
       "body .gp { color: #c65d09; font-weight: bold } /* Generic.Prompt */\n",
       "body .gs { font-weight: bold } /* Generic.Strong */\n",
       "body .gu { color: #800080; font-weight: bold } /* Generic.Subheading */\n",
       "body .gt { color: #0044DD } /* Generic.Traceback */\n",
       "body .kc { color: #007020; font-weight: bold } /* Keyword.Constant */\n",
       "body .kd { color: #007020; font-weight: bold } /* Keyword.Declaration */\n",
       "body .kn { color: #007020; font-weight: bold } /* Keyword.Namespace */\n",
       "body .kp { color: #007020 } /* Keyword.Pseudo */\n",
       "body .kr { color: #007020; font-weight: bold } /* Keyword.Reserved */\n",
       "body .kt { color: #902000 } /* Keyword.Type */\n",
       "body .m { color: #40a070 } /* Literal.Number */\n",
       "body .s { color: #4070a0 } /* Literal.String */\n",
       "body .na { color: #4070a0 } /* Name.Attribute */\n",
       "body .nb { color: #007020 } /* Name.Builtin */\n",
       "body .nc { color: #0e84b5; font-weight: bold } /* Name.Class */\n",
       "body .no { color: #60add5 } /* Name.Constant */\n",
       "body .nd { color: #555555; font-weight: bold } /* Name.Decorator */\n",
       "body .ni { color: #d55537; font-weight: bold } /* Name.Entity */\n",
       "body .ne { color: #007020 } /* Name.Exception */\n",
       "body .nf { color: #06287e } /* Name.Function */\n",
       "body .nl { color: #002070; font-weight: bold } /* Name.Label */\n",
       "body .nn { color: #0e84b5; font-weight: bold } /* Name.Namespace */\n",
       "body .nt { color: #062873; font-weight: bold } /* Name.Tag */\n",
       "body .nv { color: #bb60d5 } /* Name.Variable */\n",
       "body .ow { color: #007020; font-weight: bold } /* Operator.Word */\n",
       "body .w { color: #bbbbbb } /* Text.Whitespace */\n",
       "body .mb { color: #40a070 } /* Literal.Number.Bin */\n",
       "body .mf { color: #40a070 } /* Literal.Number.Float */\n",
       "body .mh { color: #40a070 } /* Literal.Number.Hex */\n",
       "body .mi { color: #40a070 } /* Literal.Number.Integer */\n",
       "body .mo { color: #40a070 } /* Literal.Number.Oct */\n",
       "body .sa { color: #4070a0 } /* Literal.String.Affix */\n",
       "body .sb { color: #4070a0 } /* Literal.String.Backtick */\n",
       "body .sc { color: #4070a0 } /* Literal.String.Char */\n",
       "body .dl { color: #4070a0 } /* Literal.String.Delimiter */\n",
       "body .sd { color: #4070a0; font-style: italic } /* Literal.String.Doc */\n",
       "body .s2 { color: #4070a0 } /* Literal.String.Double */\n",
       "body .se { color: #4070a0; font-weight: bold } /* Literal.String.Escape */\n",
       "body .sh { color: #4070a0 } /* Literal.String.Heredoc */\n",
       "body .si { color: #70a0d0; font-style: italic } /* Literal.String.Interpol */\n",
       "body .sx { color: #c65d09 } /* Literal.String.Other */\n",
       "body .sr { color: #235388 } /* Literal.String.Regex */\n",
       "body .s1 { color: #4070a0 } /* Literal.String.Single */\n",
       "body .ss { color: #517918 } /* Literal.String.Symbol */\n",
       "body .bp { color: #007020 } /* Name.Builtin.Pseudo */\n",
       "body .fm { color: #06287e } /* Name.Function.Magic */\n",
       "body .vc { color: #bb60d5 } /* Name.Variable.Class */\n",
       "body .vg { color: #bb60d5 } /* Name.Variable.Global */\n",
       "body .vi { color: #bb60d5 } /* Name.Variable.Instance */\n",
       "body .vm { color: #bb60d5 } /* Name.Variable.Magic */\n",
       "body .il { color: #40a070 } /* Literal.Number.Integer.Long */\n",
       "\n",
       "  </style>\n",
       "</head>\n",
       "<body>\n",
       "<h2></h2>\n",
       "\n",
       "<div class=\"highlight\"><pre><span></span><span class=\"k\">SELECT</span> <span class=\"n\">COUNT</span><span class=\"p\">(</span><span class=\"o\">*</span><span class=\"p\">)</span> <span class=\"k\">FROM</span> <span class=\"n\">demo</span><span class=\"mf\">.</span><span class=\"n\">amzn_reviews</span><span class=\"p\">;</span>\n",
       "</pre></div>\n",
       "</body>\n",
       "</html>"
      ]
     },
     "metadata": {},
     "output_type": "display_data"
    }
   ],
   "source": [
    "sqlfilecode = !pygmentize -f html -O full,style=friendly -l postgres script/2-2-count-table.sql\n",
    "display_html('\\n'.join(sqlfilecode), raw=True)"
   ]
  },
  {
   "cell_type": "code",
   "execution_count": 51,
   "metadata": {},
   "outputs": [
    {
     "name": "stdout",
     "output_type": "stream",
     "text": [
      "1 rows affected.\n"
     ]
    },
    {
     "data": {
      "text/html": [
       "<table>\n",
       "    <tr>\n",
       "        <th>count</th>\n",
       "    </tr>\n",
       "    <tr>\n",
       "        <td>0</td>\n",
       "    </tr>\n",
       "</table>"
      ],
      "text/plain": [
       "[(0L,)]"
      ]
     },
     "execution_count": 51,
     "metadata": {},
     "output_type": "execute_result"
    }
   ],
   "source": [
    "query = !cat script/2-2-count-table.sql\n",
    "%sql $DB_USER@$DB_SERVER {''.join(query)}"
   ]
  },
  {
   "cell_type": "markdown",
   "metadata": {},
   "source": [
    "## Step 3. Load dataset into the database using `gpload`.\n",
    "\n",
    "**gpload** is a data loading utility that acts as an interface to the Greenplum Database external table parallel loading feature. Using a load specification defined in a YAML formatted control file, gpload executes a load by invoking the Greenplum Database parallel file server (*gpfdist*), creating an external table definition based on the source data defined, and executing an INSERT, UPDATE or MERGE operation to load the source data into the target table in the database. \n",
    "\n",
    "You can declare more than one file as input/source as long as the data is of the same format in all files specified. Additionally, if the files are compressed using gzip or bzip2 (have a .gz or .bz2 file extension), the files will be uncompressed automatically (provided that `gunzip` or `bunzip2` is in your path). You can also declare options such as the schema of the source data files, perform basic transformations,  define custom delimiter and/or escape character(s), and many more. For the full list of available options, check the GPLoad Utility Reference available on [Pivotal Greenplum Database Documentation](https://gpdb.docs.pivotal.io/latest) (*Pivotal Greenplum Documentation* > *Utility Guide* > *Management Utility Reference* > *gpload*).\n",
    "\n",
    "The operation, including any SQL commands specified in the SQL collection of the YAML control file, are performed as a single transaction to prevent inconsistent data when performing multiple, simultaneous load operations on a target table.\n",
    "\n",
    "For our demo, we the **gpload_amzn_reviews.yaml** file, as following:"
   ]
  },
  {
   "cell_type": "code",
   "execution_count": 13,
   "metadata": {},
   "outputs": [
    {
     "data": {
      "text/html": [
       "<!DOCTYPE html PUBLIC \"-//W3C//DTD HTML 4.01//EN\"\n",
       "   \"http://www.w3.org/TR/html4/strict.dtd\">\n",
       "\n",
       "<html>\n",
       "<head>\n",
       "  <title></title>\n",
       "  <meta http-equiv=\"content-type\" content=\"text/html; charset=UTF-8\">\n",
       "  <style type=\"text/css\">\n",
       "td.linenos { background-color: #f0f0f0; padding-right: 10px; }\n",
       "span.lineno { background-color: #f0f0f0; padding: 0 5px 0 5px; }\n",
       "pre { line-height: 125%; }\n",
       "body .hll { background-color: #ffffcc }\n",
       "body  { background: #f0f0f0; }\n",
       "body .c { color: #60a0b0; font-style: italic } /* Comment */\n",
       "body .err { border: 1px solid #FF0000 } /* Error */\n",
       "body .k { color: #007020; font-weight: bold } /* Keyword */\n",
       "body .o { color: #666666 } /* Operator */\n",
       "body .ch { color: #60a0b0; font-style: italic } /* Comment.Hashbang */\n",
       "body .cm { color: #60a0b0; font-style: italic } /* Comment.Multiline */\n",
       "body .cp { color: #007020 } /* Comment.Preproc */\n",
       "body .cpf { color: #60a0b0; font-style: italic } /* Comment.PreprocFile */\n",
       "body .c1 { color: #60a0b0; font-style: italic } /* Comment.Single */\n",
       "body .cs { color: #60a0b0; background-color: #fff0f0 } /* Comment.Special */\n",
       "body .gd { color: #A00000 } /* Generic.Deleted */\n",
       "body .ge { font-style: italic } /* Generic.Emph */\n",
       "body .gr { color: #FF0000 } /* Generic.Error */\n",
       "body .gh { color: #000080; font-weight: bold } /* Generic.Heading */\n",
       "body .gi { color: #00A000 } /* Generic.Inserted */\n",
       "body .go { color: #888888 } /* Generic.Output */\n",
       "body .gp { color: #c65d09; font-weight: bold } /* Generic.Prompt */\n",
       "body .gs { font-weight: bold } /* Generic.Strong */\n",
       "body .gu { color: #800080; font-weight: bold } /* Generic.Subheading */\n",
       "body .gt { color: #0044DD } /* Generic.Traceback */\n",
       "body .kc { color: #007020; font-weight: bold } /* Keyword.Constant */\n",
       "body .kd { color: #007020; font-weight: bold } /* Keyword.Declaration */\n",
       "body .kn { color: #007020; font-weight: bold } /* Keyword.Namespace */\n",
       "body .kp { color: #007020 } /* Keyword.Pseudo */\n",
       "body .kr { color: #007020; font-weight: bold } /* Keyword.Reserved */\n",
       "body .kt { color: #902000 } /* Keyword.Type */\n",
       "body .m { color: #40a070 } /* Literal.Number */\n",
       "body .s { color: #4070a0 } /* Literal.String */\n",
       "body .na { color: #4070a0 } /* Name.Attribute */\n",
       "body .nb { color: #007020 } /* Name.Builtin */\n",
       "body .nc { color: #0e84b5; font-weight: bold } /* Name.Class */\n",
       "body .no { color: #60add5 } /* Name.Constant */\n",
       "body .nd { color: #555555; font-weight: bold } /* Name.Decorator */\n",
       "body .ni { color: #d55537; font-weight: bold } /* Name.Entity */\n",
       "body .ne { color: #007020 } /* Name.Exception */\n",
       "body .nf { color: #06287e } /* Name.Function */\n",
       "body .nl { color: #002070; font-weight: bold } /* Name.Label */\n",
       "body .nn { color: #0e84b5; font-weight: bold } /* Name.Namespace */\n",
       "body .nt { color: #062873; font-weight: bold } /* Name.Tag */\n",
       "body .nv { color: #bb60d5 } /* Name.Variable */\n",
       "body .ow { color: #007020; font-weight: bold } /* Operator.Word */\n",
       "body .w { color: #bbbbbb } /* Text.Whitespace */\n",
       "body .mb { color: #40a070 } /* Literal.Number.Bin */\n",
       "body .mf { color: #40a070 } /* Literal.Number.Float */\n",
       "body .mh { color: #40a070 } /* Literal.Number.Hex */\n",
       "body .mi { color: #40a070 } /* Literal.Number.Integer */\n",
       "body .mo { color: #40a070 } /* Literal.Number.Oct */\n",
       "body .sa { color: #4070a0 } /* Literal.String.Affix */\n",
       "body .sb { color: #4070a0 } /* Literal.String.Backtick */\n",
       "body .sc { color: #4070a0 } /* Literal.String.Char */\n",
       "body .dl { color: #4070a0 } /* Literal.String.Delimiter */\n",
       "body .sd { color: #4070a0; font-style: italic } /* Literal.String.Doc */\n",
       "body .s2 { color: #4070a0 } /* Literal.String.Double */\n",
       "body .se { color: #4070a0; font-weight: bold } /* Literal.String.Escape */\n",
       "body .sh { color: #4070a0 } /* Literal.String.Heredoc */\n",
       "body .si { color: #70a0d0; font-style: italic } /* Literal.String.Interpol */\n",
       "body .sx { color: #c65d09 } /* Literal.String.Other */\n",
       "body .sr { color: #235388 } /* Literal.String.Regex */\n",
       "body .s1 { color: #4070a0 } /* Literal.String.Single */\n",
       "body .ss { color: #517918 } /* Literal.String.Symbol */\n",
       "body .bp { color: #007020 } /* Name.Builtin.Pseudo */\n",
       "body .fm { color: #06287e } /* Name.Function.Magic */\n",
       "body .vc { color: #bb60d5 } /* Name.Variable.Class */\n",
       "body .vg { color: #bb60d5 } /* Name.Variable.Global */\n",
       "body .vi { color: #bb60d5 } /* Name.Variable.Instance */\n",
       "body .vm { color: #bb60d5 } /* Name.Variable.Magic */\n",
       "body .il { color: #40a070 } /* Literal.Number.Integer.Long */\n",
       "\n",
       "  </style>\n",
       "</head>\n",
       "<body>\n",
       "<h2></h2>\n",
       "\n",
       "<div class=\"highlight\"><pre><span></span><span class=\"nt\">VERSION</span><span class=\"p\">:</span> <span class=\"l l-Scalar l-Scalar-Plain\">1.0.0.1</span>\n",
       "<span class=\"nt\">GPLOAD</span><span class=\"p\">:</span>\n",
       "   <span class=\"nt\">INPUT</span><span class=\"p\">:</span>\n",
       "    <span class=\"p p-Indicator\">-</span> <span class=\"nt\">SOURCE</span><span class=\"p\">:</span>\n",
       "         <span class=\"nt\">FILE</span><span class=\"p\">:</span>\n",
       "           <span class=\"p p-Indicator\">-</span> <span class=\"l l-Scalar l-Scalar-Plain\">/home/gpadmin/data/amzn_reviews*.tsv.gz</span>\n",
       "    <span class=\"p p-Indicator\">-</span> <span class=\"nt\">FORMAT</span><span class=\"p\">:</span> <span class=\"l l-Scalar l-Scalar-Plain\">text</span>\n",
       "    <span class=\"p p-Indicator\">-</span> <span class=\"nt\">HEADER</span><span class=\"p\">:</span> <span class=\"l l-Scalar l-Scalar-Plain\">true</span>\n",
       "    <span class=\"p p-Indicator\">-</span> <span class=\"nt\">LOG_ERRORS</span><span class=\"p\">:</span> <span class=\"l l-Scalar l-Scalar-Plain\">true</span>\n",
       "    <span class=\"p p-Indicator\">-</span> <span class=\"nt\">MAX_LINE_LENGTH</span><span class=\"p\">:</span> <span class=\"l l-Scalar l-Scalar-Plain\">1000000</span>\n",
       "    <span class=\"p p-Indicator\">-</span> <span class=\"nt\">ERROR_LIMIT</span><span class=\"p\">:</span> <span class=\"l l-Scalar l-Scalar-Plain\">50000</span>\n",
       "   <span class=\"nt\">OUTPUT</span><span class=\"p\">:</span>\n",
       "    <span class=\"p p-Indicator\">-</span> <span class=\"nt\">TABLE</span><span class=\"p\">:</span> <span class=\"l l-Scalar l-Scalar-Plain\">demo.amzn_reviews</span>\n",
       "    <span class=\"p p-Indicator\">-</span> <span class=\"nt\">MODE</span><span class=\"p\">:</span> <span class=\"l l-Scalar l-Scalar-Plain\">insert</span>\n",
       "   <span class=\"nt\">PRELOAD</span><span class=\"p\">:</span>\n",
       "    <span class=\"p p-Indicator\">-</span> <span class=\"nt\">TRUNCATE</span><span class=\"p\">:</span> <span class=\"l l-Scalar l-Scalar-Plain\">true</span>\n",
       "    <span class=\"p p-Indicator\">-</span> <span class=\"nt\">REUSE_TABLES</span><span class=\"p\">:</span> <span class=\"l l-Scalar l-Scalar-Plain\">true</span>\n",
       "</pre></div>\n",
       "</body>\n",
       "</html>"
      ]
     },
     "metadata": {},
     "output_type": "display_data"
    }
   ],
   "source": [
    "sqlfilecode = !pygmentize -f html -O full,style=friendly -l yaml script/3-2-gpload-amzn-reviews.yaml\n",
    "display_html('\\n'.join(sqlfilecode), raw=True)"
   ]
  },
  {
   "cell_type": "markdown",
   "metadata": {},
   "source": [
    "### 1. Delete error log information for existing tables in the current database."
   ]
  },
  {
   "cell_type": "code",
   "execution_count": 14,
   "metadata": {},
   "outputs": [
    {
     "data": {
      "text/html": [
       "<!DOCTYPE html PUBLIC \"-//W3C//DTD HTML 4.01//EN\"\n",
       "   \"http://www.w3.org/TR/html4/strict.dtd\">\n",
       "\n",
       "<html>\n",
       "<head>\n",
       "  <title></title>\n",
       "  <meta http-equiv=\"content-type\" content=\"text/html; charset=UTF-8\">\n",
       "  <style type=\"text/css\">\n",
       "td.linenos { background-color: #f0f0f0; padding-right: 10px; }\n",
       "span.lineno { background-color: #f0f0f0; padding: 0 5px 0 5px; }\n",
       "pre { line-height: 125%; }\n",
       "body .hll { background-color: #ffffcc }\n",
       "body  { background: #f0f0f0; }\n",
       "body .c { color: #60a0b0; font-style: italic } /* Comment */\n",
       "body .err { border: 1px solid #FF0000 } /* Error */\n",
       "body .k { color: #007020; font-weight: bold } /* Keyword */\n",
       "body .o { color: #666666 } /* Operator */\n",
       "body .ch { color: #60a0b0; font-style: italic } /* Comment.Hashbang */\n",
       "body .cm { color: #60a0b0; font-style: italic } /* Comment.Multiline */\n",
       "body .cp { color: #007020 } /* Comment.Preproc */\n",
       "body .cpf { color: #60a0b0; font-style: italic } /* Comment.PreprocFile */\n",
       "body .c1 { color: #60a0b0; font-style: italic } /* Comment.Single */\n",
       "body .cs { color: #60a0b0; background-color: #fff0f0 } /* Comment.Special */\n",
       "body .gd { color: #A00000 } /* Generic.Deleted */\n",
       "body .ge { font-style: italic } /* Generic.Emph */\n",
       "body .gr { color: #FF0000 } /* Generic.Error */\n",
       "body .gh { color: #000080; font-weight: bold } /* Generic.Heading */\n",
       "body .gi { color: #00A000 } /* Generic.Inserted */\n",
       "body .go { color: #888888 } /* Generic.Output */\n",
       "body .gp { color: #c65d09; font-weight: bold } /* Generic.Prompt */\n",
       "body .gs { font-weight: bold } /* Generic.Strong */\n",
       "body .gu { color: #800080; font-weight: bold } /* Generic.Subheading */\n",
       "body .gt { color: #0044DD } /* Generic.Traceback */\n",
       "body .kc { color: #007020; font-weight: bold } /* Keyword.Constant */\n",
       "body .kd { color: #007020; font-weight: bold } /* Keyword.Declaration */\n",
       "body .kn { color: #007020; font-weight: bold } /* Keyword.Namespace */\n",
       "body .kp { color: #007020 } /* Keyword.Pseudo */\n",
       "body .kr { color: #007020; font-weight: bold } /* Keyword.Reserved */\n",
       "body .kt { color: #902000 } /* Keyword.Type */\n",
       "body .m { color: #40a070 } /* Literal.Number */\n",
       "body .s { color: #4070a0 } /* Literal.String */\n",
       "body .na { color: #4070a0 } /* Name.Attribute */\n",
       "body .nb { color: #007020 } /* Name.Builtin */\n",
       "body .nc { color: #0e84b5; font-weight: bold } /* Name.Class */\n",
       "body .no { color: #60add5 } /* Name.Constant */\n",
       "body .nd { color: #555555; font-weight: bold } /* Name.Decorator */\n",
       "body .ni { color: #d55537; font-weight: bold } /* Name.Entity */\n",
       "body .ne { color: #007020 } /* Name.Exception */\n",
       "body .nf { color: #06287e } /* Name.Function */\n",
       "body .nl { color: #002070; font-weight: bold } /* Name.Label */\n",
       "body .nn { color: #0e84b5; font-weight: bold } /* Name.Namespace */\n",
       "body .nt { color: #062873; font-weight: bold } /* Name.Tag */\n",
       "body .nv { color: #bb60d5 } /* Name.Variable */\n",
       "body .ow { color: #007020; font-weight: bold } /* Operator.Word */\n",
       "body .w { color: #bbbbbb } /* Text.Whitespace */\n",
       "body .mb { color: #40a070 } /* Literal.Number.Bin */\n",
       "body .mf { color: #40a070 } /* Literal.Number.Float */\n",
       "body .mh { color: #40a070 } /* Literal.Number.Hex */\n",
       "body .mi { color: #40a070 } /* Literal.Number.Integer */\n",
       "body .mo { color: #40a070 } /* Literal.Number.Oct */\n",
       "body .sa { color: #4070a0 } /* Literal.String.Affix */\n",
       "body .sb { color: #4070a0 } /* Literal.String.Backtick */\n",
       "body .sc { color: #4070a0 } /* Literal.String.Char */\n",
       "body .dl { color: #4070a0 } /* Literal.String.Delimiter */\n",
       "body .sd { color: #4070a0; font-style: italic } /* Literal.String.Doc */\n",
       "body .s2 { color: #4070a0 } /* Literal.String.Double */\n",
       "body .se { color: #4070a0; font-weight: bold } /* Literal.String.Escape */\n",
       "body .sh { color: #4070a0 } /* Literal.String.Heredoc */\n",
       "body .si { color: #70a0d0; font-style: italic } /* Literal.String.Interpol */\n",
       "body .sx { color: #c65d09 } /* Literal.String.Other */\n",
       "body .sr { color: #235388 } /* Literal.String.Regex */\n",
       "body .s1 { color: #4070a0 } /* Literal.String.Single */\n",
       "body .ss { color: #517918 } /* Literal.String.Symbol */\n",
       "body .bp { color: #007020 } /* Name.Builtin.Pseudo */\n",
       "body .fm { color: #06287e } /* Name.Function.Magic */\n",
       "body .vc { color: #bb60d5 } /* Name.Variable.Class */\n",
       "body .vg { color: #bb60d5 } /* Name.Variable.Global */\n",
       "body .vi { color: #bb60d5 } /* Name.Variable.Instance */\n",
       "body .vm { color: #bb60d5 } /* Name.Variable.Magic */\n",
       "body .il { color: #40a070 } /* Literal.Number.Integer.Long */\n",
       "\n",
       "  </style>\n",
       "</head>\n",
       "<body>\n",
       "<h2></h2>\n",
       "\n",
       "<div class=\"highlight\"><pre><span></span><span class=\"k\">SELECT</span> <span class=\"n\">gp_truncate_error_log</span><span class=\"p\">(</span><span class=\"s1\">&#39;demo.amzn_reviews&#39;</span><span class=\"p\">);</span>\n",
       "</pre></div>\n",
       "</body>\n",
       "</html>"
      ]
     },
     "metadata": {},
     "output_type": "display_data"
    }
   ],
   "source": [
    "sqlfilecode = !pygmentize -f html -O full,style=friendly -l postgres script/3-1-delete-error-log-info.sql\n",
    "display_html('\\n'.join(sqlfilecode), raw=True)"
   ]
  },
  {
   "cell_type": "code",
   "execution_count": 55,
   "metadata": {},
   "outputs": [
    {
     "name": "stdout",
     "output_type": "stream",
     "text": [
      "1 rows affected.\n"
     ]
    },
    {
     "data": {
      "text/html": [
       "<table>\n",
       "    <tr>\n",
       "        <th>gp_truncate_error_log</th>\n",
       "    </tr>\n",
       "    <tr>\n",
       "        <td>True</td>\n",
       "    </tr>\n",
       "</table>"
      ],
      "text/plain": [
       "[(True,)]"
      ]
     },
     "execution_count": 55,
     "metadata": {},
     "output_type": "execute_result"
    }
   ],
   "source": [
    "query = !cat script/3-1-delete-error-log-info.sql\n",
    "%sql $DB_USER@$DB_SERVER {''.join(query)}"
   ]
  },
  {
   "cell_type": "markdown",
   "metadata": {},
   "source": [
    "### 2. Copy GPLoad YAML file across to Database Server and Execute"
   ]
  },
  {
   "cell_type": "code",
   "execution_count": 56,
   "metadata": {},
   "outputs": [
    {
     "name": "stdout",
     "output_type": "stream",
     "text": [
      "3-2-gpload-amzn-reviews.yaml                  100%  353   480.6KB/s   00:00    \n",
      "2019-07-29 12:27:27|INFO|gpload session started 2019-07-29 12:27:27\n",
      "2019-07-29 12:27:27|INFO|no host supplied, defaulting to localhost\n",
      "2019-07-29 12:27:27|INFO|started gpfdist -p 8000 -P 9000 -f \"/home/gpadmin/data/amzn_reviews*.tsv.gz\" -t 30 -m 1000000\n",
      "2019-07-29 12:27:27|INFO|did not find an external table to reuse. creating ext_gpload_reusable_39fe859e_b1fc_11e9_a1c4_080027acd876\n",
      "2019-07-29 12:28:25|WARN|134 bad rows\n",
      "2019-07-29 12:28:25|WARN|Please use following query to access the detailed error\n",
      "2019-07-29 12:28:25|WARN|select * from gp_read_error_log('ext_gpload_reusable_39fe859e_b1fc_11e9_a1c4_080027acd876') where cmdtime > to_timestamp('1564403247.44')\n",
      "2019-07-29 12:28:25|INFO|running time: 58.49 seconds\n",
      "2019-07-29 12:28:25|INFO|rows Inserted          = 3453164\n",
      "2019-07-29 12:28:25|INFO|rows Updated           = 0\n",
      "2019-07-29 12:28:25|INFO|data formatting errors = 134\n",
      "2019-07-29 12:28:25|INFO|gpload succeeded with warnings\n"
     ]
    }
   ],
   "source": [
    "!scp script/3-2-gpload-amzn-reviews.yaml $DB_USER@$DB_SERVER:gpload_amzn_reviews.yaml\n",
    "!ssh $DB_USER@$DB_SERVER 'gpload -d gpadmin -f /home/gpadmin/gpload_amzn_reviews.yaml 2>&1 \\\n",
    "    | tee /home/gpadmin/gpload_amzn_reviews.log'"
   ]
  },
  {
   "cell_type": "markdown",
   "metadata": {},
   "source": [
    "### Check `gpload` execution\n",
    "\n",
    "Check `gpload` execution output (shown above and also available on `/home/gpadmin/script/gpload_amzn_reviews.log`), confirm successful loading of the data and/or identify any message which require ones attention and/or actions:\n",
    "\n",
    "### 1. Check the data has been properly loaded, by confirming row count shown above:"
   ]
  },
  {
   "cell_type": "code",
   "execution_count": 15,
   "metadata": {},
   "outputs": [
    {
     "data": {
      "text/html": [
       "<!DOCTYPE html PUBLIC \"-//W3C//DTD HTML 4.01//EN\"\n",
       "   \"http://www.w3.org/TR/html4/strict.dtd\">\n",
       "\n",
       "<html>\n",
       "<head>\n",
       "  <title></title>\n",
       "  <meta http-equiv=\"content-type\" content=\"text/html; charset=UTF-8\">\n",
       "  <style type=\"text/css\">\n",
       "td.linenos { background-color: #f0f0f0; padding-right: 10px; }\n",
       "span.lineno { background-color: #f0f0f0; padding: 0 5px 0 5px; }\n",
       "pre { line-height: 125%; }\n",
       "body .hll { background-color: #ffffcc }\n",
       "body  { background: #f0f0f0; }\n",
       "body .c { color: #60a0b0; font-style: italic } /* Comment */\n",
       "body .err { border: 1px solid #FF0000 } /* Error */\n",
       "body .k { color: #007020; font-weight: bold } /* Keyword */\n",
       "body .o { color: #666666 } /* Operator */\n",
       "body .ch { color: #60a0b0; font-style: italic } /* Comment.Hashbang */\n",
       "body .cm { color: #60a0b0; font-style: italic } /* Comment.Multiline */\n",
       "body .cp { color: #007020 } /* Comment.Preproc */\n",
       "body .cpf { color: #60a0b0; font-style: italic } /* Comment.PreprocFile */\n",
       "body .c1 { color: #60a0b0; font-style: italic } /* Comment.Single */\n",
       "body .cs { color: #60a0b0; background-color: #fff0f0 } /* Comment.Special */\n",
       "body .gd { color: #A00000 } /* Generic.Deleted */\n",
       "body .ge { font-style: italic } /* Generic.Emph */\n",
       "body .gr { color: #FF0000 } /* Generic.Error */\n",
       "body .gh { color: #000080; font-weight: bold } /* Generic.Heading */\n",
       "body .gi { color: #00A000 } /* Generic.Inserted */\n",
       "body .go { color: #888888 } /* Generic.Output */\n",
       "body .gp { color: #c65d09; font-weight: bold } /* Generic.Prompt */\n",
       "body .gs { font-weight: bold } /* Generic.Strong */\n",
       "body .gu { color: #800080; font-weight: bold } /* Generic.Subheading */\n",
       "body .gt { color: #0044DD } /* Generic.Traceback */\n",
       "body .kc { color: #007020; font-weight: bold } /* Keyword.Constant */\n",
       "body .kd { color: #007020; font-weight: bold } /* Keyword.Declaration */\n",
       "body .kn { color: #007020; font-weight: bold } /* Keyword.Namespace */\n",
       "body .kp { color: #007020 } /* Keyword.Pseudo */\n",
       "body .kr { color: #007020; font-weight: bold } /* Keyword.Reserved */\n",
       "body .kt { color: #902000 } /* Keyword.Type */\n",
       "body .m { color: #40a070 } /* Literal.Number */\n",
       "body .s { color: #4070a0 } /* Literal.String */\n",
       "body .na { color: #4070a0 } /* Name.Attribute */\n",
       "body .nb { color: #007020 } /* Name.Builtin */\n",
       "body .nc { color: #0e84b5; font-weight: bold } /* Name.Class */\n",
       "body .no { color: #60add5 } /* Name.Constant */\n",
       "body .nd { color: #555555; font-weight: bold } /* Name.Decorator */\n",
       "body .ni { color: #d55537; font-weight: bold } /* Name.Entity */\n",
       "body .ne { color: #007020 } /* Name.Exception */\n",
       "body .nf { color: #06287e } /* Name.Function */\n",
       "body .nl { color: #002070; font-weight: bold } /* Name.Label */\n",
       "body .nn { color: #0e84b5; font-weight: bold } /* Name.Namespace */\n",
       "body .nt { color: #062873; font-weight: bold } /* Name.Tag */\n",
       "body .nv { color: #bb60d5 } /* Name.Variable */\n",
       "body .ow { color: #007020; font-weight: bold } /* Operator.Word */\n",
       "body .w { color: #bbbbbb } /* Text.Whitespace */\n",
       "body .mb { color: #40a070 } /* Literal.Number.Bin */\n",
       "body .mf { color: #40a070 } /* Literal.Number.Float */\n",
       "body .mh { color: #40a070 } /* Literal.Number.Hex */\n",
       "body .mi { color: #40a070 } /* Literal.Number.Integer */\n",
       "body .mo { color: #40a070 } /* Literal.Number.Oct */\n",
       "body .sa { color: #4070a0 } /* Literal.String.Affix */\n",
       "body .sb { color: #4070a0 } /* Literal.String.Backtick */\n",
       "body .sc { color: #4070a0 } /* Literal.String.Char */\n",
       "body .dl { color: #4070a0 } /* Literal.String.Delimiter */\n",
       "body .sd { color: #4070a0; font-style: italic } /* Literal.String.Doc */\n",
       "body .s2 { color: #4070a0 } /* Literal.String.Double */\n",
       "body .se { color: #4070a0; font-weight: bold } /* Literal.String.Escape */\n",
       "body .sh { color: #4070a0 } /* Literal.String.Heredoc */\n",
       "body .si { color: #70a0d0; font-style: italic } /* Literal.String.Interpol */\n",
       "body .sx { color: #c65d09 } /* Literal.String.Other */\n",
       "body .sr { color: #235388 } /* Literal.String.Regex */\n",
       "body .s1 { color: #4070a0 } /* Literal.String.Single */\n",
       "body .ss { color: #517918 } /* Literal.String.Symbol */\n",
       "body .bp { color: #007020 } /* Name.Builtin.Pseudo */\n",
       "body .fm { color: #06287e } /* Name.Function.Magic */\n",
       "body .vc { color: #bb60d5 } /* Name.Variable.Class */\n",
       "body .vg { color: #bb60d5 } /* Name.Variable.Global */\n",
       "body .vi { color: #bb60d5 } /* Name.Variable.Instance */\n",
       "body .vm { color: #bb60d5 } /* Name.Variable.Magic */\n",
       "body .il { color: #40a070 } /* Literal.Number.Integer.Long */\n",
       "\n",
       "  </style>\n",
       "</head>\n",
       "<body>\n",
       "<h2></h2>\n",
       "\n",
       "<div class=\"highlight\"><pre><span></span><span class=\"k\">SELECT</span> <span class=\"n\">COUNT</span><span class=\"p\">(</span><span class=\"o\">*</span><span class=\"p\">)</span> <span class=\"k\">FROM</span> <span class=\"n\">demo</span><span class=\"mf\">.</span><span class=\"n\">amzn_reviews</span><span class=\"p\">;</span>\n",
       "</pre></div>\n",
       "</body>\n",
       "</html>"
      ]
     },
     "metadata": {},
     "output_type": "display_data"
    }
   ],
   "source": [
    "sqlfilecode = !pygmentize -f html -O full,style=friendly -l postgres script/3-3-count-amzn-reviews.sql\n",
    "display_html('\\n'.join(sqlfilecode), raw=True)"
   ]
  },
  {
   "cell_type": "code",
   "execution_count": 58,
   "metadata": {},
   "outputs": [
    {
     "name": "stdout",
     "output_type": "stream",
     "text": [
      "1 rows affected.\n"
     ]
    },
    {
     "data": {
      "text/html": [
       "<table>\n",
       "    <tr>\n",
       "        <th>count</th>\n",
       "    </tr>\n",
       "    <tr>\n",
       "        <td>3453164</td>\n",
       "    </tr>\n",
       "</table>"
      ],
      "text/plain": [
       "[(3453164L,)]"
      ]
     },
     "execution_count": 58,
     "metadata": {},
     "output_type": "execute_result"
    }
   ],
   "source": [
    "query = !cat script/3-3-count-amzn-reviews.sql\n",
    "%sql $DB_USER@$DB_SERVER {''.join(query)}"
   ]
  },
  {
   "cell_type": "markdown",
   "metadata": {},
   "source": [
    "### 2. Check data formatting row count and errors, if such were identified by the `gpload` execution log:"
   ]
  },
  {
   "cell_type": "code",
   "execution_count": 59,
   "metadata": {},
   "outputs": [
    {
     "name": "stdout",
     "output_type": "stream",
     "text": [
      "1 rows affected.\n"
     ]
    },
    {
     "data": {
      "text/html": [
       "<table>\n",
       "    <tr>\n",
       "        <th>count</th>\n",
       "    </tr>\n",
       "    <tr>\n",
       "        <td>134</td>\n",
       "    </tr>\n",
       "</table>"
      ],
      "text/plain": [
       "[(134L,)]"
      ]
     },
     "execution_count": 59,
     "metadata": {},
     "output_type": "execute_result"
    }
   ],
   "source": [
    "cmd = 'cat /home/gpadmin/gpload_amzn_reviews.log\\\n",
    "    | grep -e '\"'\"'WARN|select'\"'\"'\\\n",
    "    | awk '\"'\"'BEGIN{FS=\"|\";OFS=\" \"} {print $3}'\"'\"'\\\n",
    "    | awk '\"'\"'{print $1, \"COUNT(*)\", $3, $4, $5, $6, $7, $8}'\"'\"''\n",
    "query = !ssh $DB_USER@$DB_SERVER $cmd\n",
    "%sql $DB_USER@$DB_SERVER {''.join(query)}"
   ]
  },
  {
   "cell_type": "code",
   "execution_count": null,
   "metadata": {},
   "outputs": [],
   "source": [
    "cmd = 'cat /home/gpadmin/gpload_amzn_reviews.log\\\n",
    "    | grep -e '\"'\"'WARN|select'\"'\"'\\\n",
    "    | awk '\"'\"'BEGIN{FS=\"|\"} {print $3}'\"'\"' ' \n",
    "query = !ssh $DB_USER@$DB_SERVER $cmd\n",
    "%sql {''.join(query)}"
   ]
  },
  {
   "cell_type": "markdown",
   "metadata": {},
   "source": [
    "### Continue to Part 2 of Greenplum Demo, \"[Step 4. Familiarize yourself with the newly loaded data table](GP-demo-2.ipynb)\""
   ]
  }
 ],
 "metadata": {
  "kernelspec": {
   "display_name": "Python 2",
   "language": "python",
   "name": "python2"
  },
  "language_info": {
   "codemirror_mode": {
    "name": "ipython",
    "version": 2
   },
   "file_extension": ".py",
   "mimetype": "text/x-python",
   "name": "python",
   "nbconvert_exporter": "python",
   "pygments_lexer": "ipython2",
   "version": "2.7.15+"
  }
 },
 "nbformat": 4,
 "nbformat_minor": 2
}
