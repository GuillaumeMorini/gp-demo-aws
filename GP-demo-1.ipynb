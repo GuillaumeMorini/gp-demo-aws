{
 "cells": [
  {
   "cell_type": "markdown",
   "metadata": {},
   "source": [
    "# Greenplum Demo, 07/2019\n",
    "\n",
    "## Step 0 - System and Connection Check\n",
    "- Start with gpstate. Use jupyter, dbeaver or pgadmin for queries.\n",
    "- Check *gp_autostats_mode* is set to **NONE**. This will avoid analyze time in loading and is required for one of the steps when running explain."
   ]
  },
  {
   "cell_type": "code",
   "execution_count": 1,
   "metadata": {},
   "outputs": [],
   "source": [
    "import os, re\n",
    "from IPython.display import display_html\n",
    "\n",
    "CONNECTION_STRING = os.getenv('GPDBCONN')\n",
    "\n",
    "cs = re.match('^postgresql:\\/\\/(\\S+):(\\S+)@(\\S+):(\\S+)\\/(\\S+)$', CONNECTION_STRING)\n",
    "\n",
    "DB_USER   = cs.group(1)\n",
    "DB_PWD    = cs.group(2)\n",
    "DB_SERVER = cs.group(3)\n",
    "DB_PORT   = cs.group(4)\n",
    "DB_NAME   = cs.group(5)"
   ]
  },
  {
   "cell_type": "code",
   "execution_count": 2,
   "metadata": {},
   "outputs": [
    {
     "data": {
      "text/plain": [
       "u'Connected: gpadmin@gpadmin'"
      ]
     },
     "execution_count": 2,
     "metadata": {},
     "output_type": "execute_result"
    }
   ],
   "source": [
    "%reload_ext sql\n",
    "%sql $CONNECTION_STRING"
   ]
  },
  {
   "cell_type": "code",
   "execution_count": 3,
   "metadata": {},
   "outputs": [
    {
     "name": "stdout",
     "output_type": "stream",
     "text": [
      "1 rows affected.\n"
     ]
    },
    {
     "data": {
      "text/html": [
       "<table>\n",
       "    <tr>\n",
       "        <th>gp_autostats_mode</th>\n",
       "    </tr>\n",
       "    <tr>\n",
       "        <td>ON_NO_STATS</td>\n",
       "    </tr>\n",
       "</table>"
      ],
      "text/plain": [
       "[(u'ON_NO_STATS',)]"
      ]
     },
     "execution_count": 3,
     "metadata": {},
     "output_type": "execute_result"
    }
   ],
   "source": [
    "%%sql $DB_USER@$DB_SERVER\n",
    "SHOW gp_autostats_mode;"
   ]
  },
  {
   "cell_type": "code",
   "execution_count": 4,
   "metadata": {},
   "outputs": [
    {
     "name": "stdout",
     "output_type": "stream",
     "text": [
      "Done.\n"
     ]
    },
    {
     "data": {
      "text/plain": [
       "[]"
      ]
     },
     "execution_count": 4,
     "metadata": {},
     "output_type": "execute_result"
    }
   ],
   "source": [
    "%%sql $DB_USER@$DB_SERVER\n",
    "SET gp_autostats_mode = 'NONE';"
   ]
  },
  {
   "cell_type": "code",
   "execution_count": 5,
   "metadata": {
    "scrolled": true
   },
   "outputs": [
    {
     "name": "stdout",
     "output_type": "stream",
     "text": [
      "1 rows affected.\n"
     ]
    },
    {
     "data": {
      "text/html": [
       "<table>\n",
       "    <tr>\n",
       "        <th>version</th>\n",
       "    </tr>\n",
       "    <tr>\n",
       "        <td>PostgreSQL 8.3.23 (Greenplum Database 5.21.0 build commit:27db6bab4c909daa8d6699d94cabc48f87b07fab) on x86_64-pc-linux-gnu, compiled by GCC gcc (GCC) 6.2.0, 64-bit compiled on Jul 12 2019 23:39:01</td>\n",
       "    </tr>\n",
       "</table>"
      ],
      "text/plain": [
       "[(u'PostgreSQL 8.3.23 (Greenplum Database 5.21.0 build commit:27db6bab4c909daa8d6699d94cabc48f87b07fab) on x86_64-pc-linux-gnu, compiled by GCC gcc (GCC) 6.2.0, 64-bit compiled on Jul 12 2019 23:39:01',)]"
      ]
     },
     "execution_count": 5,
     "metadata": {},
     "output_type": "execute_result"
    }
   ],
   "source": [
    "%%sql $DB_USER@$DB_SERVER\n",
    "SELECT version();"
   ]
  },
  {
   "cell_type": "markdown",
   "metadata": {},
   "source": [
    "## Step 1. The Amazon Customer Reviews Dataset\n",
    "\n",
    "Over 130+ million customer reviews are available to researchers as part of this release. The data is available in TSV files in the amazon-reviews-pds S3 bucket in AWS US East Region. Each line in the data files corresponds to an individual review (tab delimited, with no quote and escape characters). Samples of the data are available in English and French; more details on the information in each column can be found [here](https://s3.amazonaws.com/amazon-reviews-pds/tsv/index.txt).\n",
    "\n",
    "If you use the AWS Command Line Interface, you can list data in the bucket with the `ls` command: \n",
    "\n",
    "```aws s3 ls s3://amazon-reviews-pds/tsv/```\n",
    "\n",
    "To download data using the AWS Command Line Interface, you can use the `cp` command. For instance, the following command will copy the file named `amazon_reviews_us_Camera_v1_00.tsv.gz` to your local directory:\n",
    "\n",
    "```aws s3 cp s3://amazon-reviews-pds/tsv/amazon_reviews_us_Camera_v1_00.tsv.gz```\n",
    "\n",
    "For our demo, we choose to download three files under the `/home/gpadmin/data/` folder, using the `aws s3 cp <S3 File> <Local File>` command described above:\n",
    "- [`s3://amazon-reviews-pds/tsv/amazon_reviews_us_Home_Entertainment_v1_00.tsv.gz`](s3://amazon-reviews-pds/tsv/amazon_reviews_us_Home_Entertainment_v1_00.tsv.gz) (~185MB)\n",
    "- [`s3://amazon-reviews-pds/tsv/amazon_reviews_us_Mobile_Electronics_v1_00.tsv.gz`](s3://amazon-reviews-pds/tsv/amazon_reviews_us_Mobile_Electronics_v1_00.tsv.gz) (~22MB)\n",
    "- [`s3://amazon-reviews-pds/tsv/amazon_reviews_us_Office_Products_v1_00.tsv.gz`](s3://amazon-reviews-pds/tsv/amazon_reviews_us_Office_Products_v1_00.tsv.gz) (~489MB)"
   ]
  },
  {
   "cell_type": "markdown",
   "metadata": {},
   "source": [
    "## Step 2. Create Database Table to hold the Dataset\n",
    "\n",
    "### Create the Schema (optional) and the Database Table to hold the dataset, as shown below:"
   ]
  },
  {
   "cell_type": "code",
   "execution_count": 48,
   "metadata": {},
   "outputs": [
    {
     "name": "stdout",
     "output_type": "stream",
     "text": [
      "DROP SCHEMA IF EXISTS demo CASCADE;\r\n",
      "\r\n",
      "CREATE SCHEMA demo;\r\n",
      "\r\n",
      "DROP TABLE IF EXISTS demo.amzn_reviews;\r\n",
      "\r\n",
      "\r\n",
      "CREATE TABLE demo.amzn_reviews(\r\n",
      "  marketplace TEXT, \r\n",
      "  customer_id BIGINT, \r\n",
      "  review_id TEXT,\r\n",
      "  product_id TEXT, \r\n",
      "  product_parent BIGINT, \r\n",
      "  product_title TEXT, \r\n",
      "  product_category TEXT, \r\n",
      "  star_rating INTEGER, \r\n",
      "  helpful_votes INTEGER, \r\n",
      "  total_votes INTEGER, \r\n",
      "  vine TEXT, \r\n",
      "  verified_purchase TEXT, \r\n",
      "  review_headline TEXT, \r\n",
      "  review_body TEXT, \r\n",
      "  review_date DATE) \r\n",
      "DISTRIBUTED BY (review_id);\r\n"
     ]
    }
   ],
   "source": [
    "!cat script/2-1-create-db-schema-table.sql"
   ]
  },
  {
   "cell_type": "code",
   "execution_count": 49,
   "metadata": {},
   "outputs": [
    {
     "name": "stdout",
     "output_type": "stream",
     "text": [
      "Done.\n",
      "Done.\n",
      "Done.\n",
      "Done.\n"
     ]
    },
    {
     "data": {
      "text/plain": [
       "[]"
      ]
     },
     "execution_count": 49,
     "metadata": {},
     "output_type": "execute_result"
    }
   ],
   "source": [
    "query = !cat script/2-1-create-db-schema-table.sql\n",
    "\n",
    "%sql $DB_USER@$DB_SERVER {''.join(query)}"
   ]
  },
  {
   "cell_type": "code",
   "execution_count": 50,
   "metadata": {},
   "outputs": [
    {
     "name": "stdout",
     "output_type": "stream",
     "text": [
      "SELECT COUNT(*) FROM demo.amzn_reviews;\r\n"
     ]
    }
   ],
   "source": [
    "!cat script/2-2-count-table.sql"
   ]
  },
  {
   "cell_type": "code",
   "execution_count": 51,
   "metadata": {},
   "outputs": [
    {
     "name": "stdout",
     "output_type": "stream",
     "text": [
      "1 rows affected.\n"
     ]
    },
    {
     "data": {
      "text/html": [
       "<table>\n",
       "    <tr>\n",
       "        <th>count</th>\n",
       "    </tr>\n",
       "    <tr>\n",
       "        <td>0</td>\n",
       "    </tr>\n",
       "</table>"
      ],
      "text/plain": [
       "[(0L,)]"
      ]
     },
     "execution_count": 51,
     "metadata": {},
     "output_type": "execute_result"
    }
   ],
   "source": [
    "query = !cat script/2-2-count-table.sql\n",
    "%sql $DB_USER@$DB_SERVER {''.join(query)}"
   ]
  },
  {
   "cell_type": "markdown",
   "metadata": {},
   "source": [
    "## Step 3. Load dataset into the database using `gpload`.\n",
    "\n",
    "**gpload** is a data loading utility that acts as an interface to the Greenplum Database external table parallel loading feature. Using a load specification defined in a YAML formatted control file, gpload executes a load by invoking the Greenplum Database parallel file server (*gpfdist*), creating an external table definition based on the source data defined, and executing an INSERT, UPDATE or MERGE operation to load the source data into the target table in the database. \n",
    "\n",
    "You can declare more than one file as input/source as long as the data is of the same format in all files specified. Additionally, if the files are compressed using gzip or bzip2 (have a .gz or .bz2 file extension), the files will be uncompressed automatically (provided that `gunzip` or `bunzip2` is in your path). You can also declare options such as the schema of the source data files, perform basic transformations,  define custom delimiter and/or escape character(s), and many more. For the full list of available options, check the GPLoad Utility Reference available on [Pivotal Greenplum Database Documentation](https://gpdb.docs.pivotal.io/latest) (*Pivotal Greenplum Documentation* > *Utility Guide* > *Management Utility Reference* > *gpload*).\n",
    "\n",
    "The operation, including any SQL commands specified in the SQL collection of the YAML control file, are performed as a single transaction to prevent inconsistent data when performing multiple, simultaneous load operations on a target table.\n",
    "\n",
    "For our demo, we the **gpload_amzn_reviews.yaml** file, as following:"
   ]
  },
  {
   "cell_type": "code",
   "execution_count": 53,
   "metadata": {},
   "outputs": [
    {
     "name": "stdout",
     "output_type": "stream",
     "text": [
      "VERSION: 1.0.0.1\r\n",
      "GPLOAD:\r\n",
      "   INPUT:\r\n",
      "    - SOURCE:\r\n",
      "         FILE:\r\n",
      "           - /home/gpadmin/data/amzn_reviews*.tsv.gz\r\n",
      "    - FORMAT: text\r\n",
      "    - HEADER: true\r\n",
      "    - LOG_ERRORS: true\r\n",
      "    - MAX_LINE_LENGTH: 1000000\r\n",
      "    - ERROR_LIMIT: 50000\r\n",
      "   OUTPUT:\r\n",
      "    - TABLE: demo.amzn_reviews\r\n",
      "    - MODE: insert\r\n",
      "   PRELOAD:\r\n",
      "    - TRUNCATE: true\r\n",
      "    - REUSE_TABLES: true\r\n"
     ]
    }
   ],
   "source": [
    "!cat script/3-2-gpload-amzn-reviews.yaml"
   ]
  },
  {
   "cell_type": "markdown",
   "metadata": {},
   "source": [
    "### 1. Delete error log information for existing tables in the current database."
   ]
  },
  {
   "cell_type": "code",
   "execution_count": 54,
   "metadata": {},
   "outputs": [
    {
     "name": "stdout",
     "output_type": "stream",
     "text": [
      "SELECT gp_truncate_error_log('demo.amzn_reviews');\r\n"
     ]
    }
   ],
   "source": [
    "!cat script/3-1-delete-error-log-info.sql"
   ]
  },
  {
   "cell_type": "code",
   "execution_count": 55,
   "metadata": {},
   "outputs": [
    {
     "name": "stdout",
     "output_type": "stream",
     "text": [
      "1 rows affected.\n"
     ]
    },
    {
     "data": {
      "text/html": [
       "<table>\n",
       "    <tr>\n",
       "        <th>gp_truncate_error_log</th>\n",
       "    </tr>\n",
       "    <tr>\n",
       "        <td>True</td>\n",
       "    </tr>\n",
       "</table>"
      ],
      "text/plain": [
       "[(True,)]"
      ]
     },
     "execution_count": 55,
     "metadata": {},
     "output_type": "execute_result"
    }
   ],
   "source": [
    "query = !cat script/3-1-delete-error-log-info.sql\n",
    "%sql $DB_USER@$DB_SERVER {''.join(query)}"
   ]
  },
  {
   "cell_type": "markdown",
   "metadata": {},
   "source": [
    "### 2. Copy GPLoad YAML file across to Database Server and Execute"
   ]
  },
  {
   "cell_type": "code",
   "execution_count": 56,
   "metadata": {},
   "outputs": [
    {
     "name": "stdout",
     "output_type": "stream",
     "text": [
      "3-2-gpload-amzn-reviews.yaml                  100%  353   480.6KB/s   00:00    \n",
      "2019-07-29 12:27:27|INFO|gpload session started 2019-07-29 12:27:27\n",
      "2019-07-29 12:27:27|INFO|no host supplied, defaulting to localhost\n",
      "2019-07-29 12:27:27|INFO|started gpfdist -p 8000 -P 9000 -f \"/home/gpadmin/data/amzn_reviews*.tsv.gz\" -t 30 -m 1000000\n",
      "2019-07-29 12:27:27|INFO|did not find an external table to reuse. creating ext_gpload_reusable_39fe859e_b1fc_11e9_a1c4_080027acd876\n",
      "2019-07-29 12:28:25|WARN|134 bad rows\n",
      "2019-07-29 12:28:25|WARN|Please use following query to access the detailed error\n",
      "2019-07-29 12:28:25|WARN|select * from gp_read_error_log('ext_gpload_reusable_39fe859e_b1fc_11e9_a1c4_080027acd876') where cmdtime > to_timestamp('1564403247.44')\n",
      "2019-07-29 12:28:25|INFO|running time: 58.49 seconds\n",
      "2019-07-29 12:28:25|INFO|rows Inserted          = 3453164\n",
      "2019-07-29 12:28:25|INFO|rows Updated           = 0\n",
      "2019-07-29 12:28:25|INFO|data formatting errors = 134\n",
      "2019-07-29 12:28:25|INFO|gpload succeeded with warnings\n"
     ]
    }
   ],
   "source": [
    "!scp script/3-2-gpload-amzn-reviews.yaml $DB_USER@$DB_SERVER:gpload_amzn_reviews.yaml\n",
    "!ssh $DB_USER@$DB_SERVER 'gpload -d gpadmin -f /home/gpadmin/gpload_amzn_reviews.yaml 2>&1 \\\n",
    "    | tee /home/gpadmin/gpload_amzn_reviews.log'"
   ]
  },
  {
   "cell_type": "markdown",
   "metadata": {},
   "source": [
    "### Check `gpload` execution\n",
    "\n",
    "Check `gpload` execution output (shown above and also available on `/home/gpadmin/script/gpload_amzn_reviews.log`), confirm successful loading of the data and/or identify any message which require ones attention and/or actions:\n",
    "\n",
    "### 1. Check the data has been properly loaded, by confirming row count shown above:"
   ]
  },
  {
   "cell_type": "code",
   "execution_count": 57,
   "metadata": {},
   "outputs": [
    {
     "name": "stdout",
     "output_type": "stream",
     "text": [
      "SELECT COUNT(*) FROM demo.amzn_reviews;\r\n"
     ]
    }
   ],
   "source": [
    "!cat script/3-3-count-amzn-reviews.sql"
   ]
  },
  {
   "cell_type": "code",
   "execution_count": 58,
   "metadata": {},
   "outputs": [
    {
     "name": "stdout",
     "output_type": "stream",
     "text": [
      "1 rows affected.\n"
     ]
    },
    {
     "data": {
      "text/html": [
       "<table>\n",
       "    <tr>\n",
       "        <th>count</th>\n",
       "    </tr>\n",
       "    <tr>\n",
       "        <td>3453164</td>\n",
       "    </tr>\n",
       "</table>"
      ],
      "text/plain": [
       "[(3453164L,)]"
      ]
     },
     "execution_count": 58,
     "metadata": {},
     "output_type": "execute_result"
    }
   ],
   "source": [
    "query = !cat script/3-3-count-amzn-reviews.sql\n",
    "%sql $DB_USER@$DB_SERVER {''.join(query)}"
   ]
  },
  {
   "cell_type": "markdown",
   "metadata": {},
   "source": [
    "### 2. Check data formatting row count and errors, if such were identified by the `gpload` execution log:"
   ]
  },
  {
   "cell_type": "code",
   "execution_count": 59,
   "metadata": {},
   "outputs": [
    {
     "name": "stdout",
     "output_type": "stream",
     "text": [
      "1 rows affected.\n"
     ]
    },
    {
     "data": {
      "text/html": [
       "<table>\n",
       "    <tr>\n",
       "        <th>count</th>\n",
       "    </tr>\n",
       "    <tr>\n",
       "        <td>134</td>\n",
       "    </tr>\n",
       "</table>"
      ],
      "text/plain": [
       "[(134L,)]"
      ]
     },
     "execution_count": 59,
     "metadata": {},
     "output_type": "execute_result"
    }
   ],
   "source": [
    "cmd = 'cat /home/gpadmin/gpload_amzn_reviews.log\\\n",
    "    | grep -e '\"'\"'WARN|select'\"'\"'\\\n",
    "    | awk '\"'\"'BEGIN{FS=\"|\";OFS=\" \"} {print $3}'\"'\"'\\\n",
    "    | awk '\"'\"'{print $1, \"COUNT(*)\", $3, $4, $5, $6, $7, $8}'\"'\"''\n",
    "query = !ssh $DB_USER@$DB_SERVER $cmd\n",
    "%sql $DB_USER@$DB_SERVER {''.join(query)}"
   ]
  },
  {
   "cell_type": "code",
   "execution_count": null,
   "metadata": {},
   "outputs": [],
   "source": [
    "cmd = 'cat /home/gpadmin/gpload_amzn_reviews.log\\\n",
    "    | grep -e '\"'\"'WARN|select'\"'\"'\\\n",
    "    | awk '\"'\"'BEGIN{FS=\"|\"} {print $3}'\"'\"' ' \n",
    "query = !ssh $DB_USER@$DB_SERVER $cmd\n",
    "%sql {''.join(query)}"
   ]
  },
  {
   "cell_type": "markdown",
   "metadata": {},
   "source": [
    "### Continue to Part 2 of Greenplum Demo, \"[Step 4. Familiarize yourself with the newly loaded data table](GP-demo-2.ipynb)\""
   ]
  },
  {
   "cell_type": "code",
   "execution_count": null,
   "metadata": {},
   "outputs": [],
   "source": []
  }
 ],
 "metadata": {
  "celltoolbar": "Raw Cell Format",
  "kernelspec": {
   "display_name": "Python 2",
   "language": "python",
   "name": "python2"
  },
  "language_info": {
   "codemirror_mode": {
    "name": "ipython",
    "version": 2
   },
   "file_extension": ".py",
   "mimetype": "text/x-python",
   "name": "python",
   "nbconvert_exporter": "python",
   "pygments_lexer": "ipython2",
   "version": "2.7.15+"
  }
 },
 "nbformat": 4,
 "nbformat_minor": 2
}
