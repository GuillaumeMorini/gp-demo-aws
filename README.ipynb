{
 "cells": [
  {
   "cell_type": "markdown",
   "metadata": {},
   "source": [
    "# gp-demo\n",
    "\n",
    "## [Part 1](GP-demo-1.ipynb)\n",
    "1. Setup \n",
    "2. Describe input dataset \n",
    "3. Data Loading \n",
    "   - `GPLOAD` utility \n",
    "   - Other Data Loading Options\n",
    "\n",
    "## [Part 2](GP-demo-2.ipynb)\n",
    "4. Basic Table Functions \n",
    "   - DESCRIBE Table \n",
    "   - Data Distribution across Segments \n",
    "   - Table Size and Disk Space Usage \n",
    "\n",
    "   - Check for Data Skew \n",
    "\n",
    "## [Part 3](GP-demo-3.ipynb)\n",
    "5. MPP Fundamentals \n",
    "6. Partitioning \n",
    "\n",
    "## [Part 4](GP-demo-4.ipynb)\n",
    "7. Table Storage Models\n",
    "\n",
    "## [Part 5](GP-demo-5.ipynb)\n",
    "8. External Tables & PXF \n",
    "\n",
    "\n",
    "# Download and Execute this demo\n",
    "\n",
    "## Prerequisites\n",
    "- A working installation of Jupyter Notebook\n",
    "- A working Greenplum Database where Jupyter Notebook can connect to and execute commands\n",
    "\n",
    "## Setup\n",
    "- Install **psql** on the VM which hosts your Jupyter Notebook (i.e. `sudo apt-get install postgresql-client` on Ubuntu 16.04/18.04 or `sudo yum install https://download.postgresql.org/pub/repos/yum/10/redhat/rhel-7-x86_64/pgdg-redhat10-10-2.noarch.rpm; sudo yum install postgresql10` on Red Hat Enterprise Linux 7 or later).\n",
    "- On the same VM, install **Pygments Python library**, i.e. `pip install Pygments` and Github **git** utility, i.e. `pip install git`.\n",
    "- Navigate to the root direcotry of your Jupyter Notebook, i.e. `/usr/local/share/jupyter/notebook_root/` or similar, depending on your Jupyter configuration. Clone the Github repo into the folder, i.e. `git clone https://github.com/cantzakas/gp-demo.git`.\n",
    "- Open your Jupyter Notebook and navigate to `gp-demo/README.md` file, i.e. on [http://127.0.0.1:9900/tree/gp-demo/README.ipynb](http://127.0.0.1:9900/tree/gp-demo/README.ipynb) or similar, depending on your Jupyter configuration."
   ]
  },
  {
   "cell_type": "code",
   "execution_count": null,
   "metadata": {},
   "outputs": [],
   "source": []
  }
 ],
 "metadata": {
  "kernelspec": {
   "display_name": "Python 2",
   "language": "python",
   "name": "python2"
  },
  "language_info": {
   "codemirror_mode": {
    "name": "ipython",
    "version": 2
   },
   "file_extension": ".py",
   "mimetype": "text/x-python",
   "name": "python",
   "nbconvert_exporter": "python",
   "pygments_lexer": "ipython2",
   "version": "2.7.15+"
  }
 },
 "nbformat": 4,
 "nbformat_minor": 2
}
